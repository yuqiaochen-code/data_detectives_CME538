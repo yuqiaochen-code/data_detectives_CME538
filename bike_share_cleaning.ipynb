{
 "cells": [
  {
   "cell_type": "raw",
   "source": [
    "### bike share data cleaning "
   ],
   "metadata": {
    "collapsed": false
   },
   "id": "8eabc039b54d597b"
  },
  {
   "cell_type": "code",
   "execution_count": 1,
   "outputs": [
    {
     "name": "stdout",
     "output_type": "stream",
     "text": [
      "Requirement already satisfied: pandas in ./venv/lib/python3.9/site-packages (2.1.2)\r\n",
      "Requirement already satisfied: pytz>=2020.1 in ./venv/lib/python3.9/site-packages (from pandas) (2023.3.post1)\r\n",
      "Requirement already satisfied: numpy<2,>=1.22.4 in ./venv/lib/python3.9/site-packages (from pandas) (1.26.1)\r\n",
      "Requirement already satisfied: python-dateutil>=2.8.2 in ./venv/lib/python3.9/site-packages (from pandas) (2.8.2)\r\n",
      "Requirement already satisfied: tzdata>=2022.1 in ./venv/lib/python3.9/site-packages (from pandas) (2023.3)\r\n",
      "Requirement already satisfied: six>=1.5 in ./venv/lib/python3.9/site-packages (from python-dateutil>=2.8.2->pandas) (1.16.0)\r\n",
      "\r\n",
      "\u001B[1m[\u001B[0m\u001B[34;49mnotice\u001B[0m\u001B[1;39;49m]\u001B[0m\u001B[39;49m A new release of pip available: \u001B[0m\u001B[31;49m22.3.1\u001B[0m\u001B[39;49m -> \u001B[0m\u001B[32;49m23.3.1\u001B[0m\r\n",
      "\u001B[1m[\u001B[0m\u001B[34;49mnotice\u001B[0m\u001B[1;39;49m]\u001B[0m\u001B[39;49m To update, run: \u001B[0m\u001B[32;49mpip install --upgrade pip\u001B[0m\r\n",
      "Note: you may need to restart the kernel to use updated packages.\n"
     ]
    }
   ],
   "source": [
    "pip install pandas "
   ],
   "metadata": {
    "collapsed": false,
    "ExecuteTime": {
     "end_time": "2023-11-11T15:57:46.176428Z",
     "start_time": "2023-11-11T15:56:23.366461Z"
    }
   },
   "id": "8ffaeffe77857446"
  },
  {
   "cell_type": "markdown",
   "source": [
    "## Set up Notebook"
   ],
   "metadata": {
    "collapsed": false
   },
   "id": "afe5c8d421363f87"
  },
  {
   "cell_type": "code",
   "execution_count": 2,
   "outputs": [
    {
     "name": "stdout",
     "output_type": "stream",
     "text": [
      "Requirement already satisfied: seaborn in ./venv/lib/python3.9/site-packages (0.13.0)\r\n",
      "Requirement already satisfied: pandas>=1.2 in ./venv/lib/python3.9/site-packages (from seaborn) (2.1.2)\r\n",
      "Requirement already satisfied: numpy!=1.24.0,>=1.20 in ./venv/lib/python3.9/site-packages (from seaborn) (1.26.1)\r\n",
      "Requirement already satisfied: matplotlib!=3.6.1,>=3.3 in ./venv/lib/python3.9/site-packages (from seaborn) (3.8.1)\r\n",
      "Requirement already satisfied: pillow>=8 in ./venv/lib/python3.9/site-packages (from matplotlib!=3.6.1,>=3.3->seaborn) (10.1.0)\r\n",
      "Requirement already satisfied: python-dateutil>=2.7 in ./venv/lib/python3.9/site-packages (from matplotlib!=3.6.1,>=3.3->seaborn) (2.8.2)\r\n",
      "Requirement already satisfied: fonttools>=4.22.0 in ./venv/lib/python3.9/site-packages (from matplotlib!=3.6.1,>=3.3->seaborn) (4.44.0)\r\n",
      "Requirement already satisfied: cycler>=0.10 in ./venv/lib/python3.9/site-packages (from matplotlib!=3.6.1,>=3.3->seaborn) (0.12.1)\r\n",
      "Requirement already satisfied: contourpy>=1.0.1 in ./venv/lib/python3.9/site-packages (from matplotlib!=3.6.1,>=3.3->seaborn) (1.2.0)\r\n",
      "Requirement already satisfied: pyparsing>=2.3.1 in ./venv/lib/python3.9/site-packages (from matplotlib!=3.6.1,>=3.3->seaborn) (3.1.1)\r\n",
      "Requirement already satisfied: packaging>=20.0 in ./venv/lib/python3.9/site-packages (from matplotlib!=3.6.1,>=3.3->seaborn) (23.2)\r\n",
      "Requirement already satisfied: importlib-resources>=3.2.0 in ./venv/lib/python3.9/site-packages (from matplotlib!=3.6.1,>=3.3->seaborn) (6.1.0)\r\n",
      "Requirement already satisfied: kiwisolver>=1.3.1 in ./venv/lib/python3.9/site-packages (from matplotlib!=3.6.1,>=3.3->seaborn) (1.4.5)\r\n",
      "Requirement already satisfied: pytz>=2020.1 in ./venv/lib/python3.9/site-packages (from pandas>=1.2->seaborn) (2023.3.post1)\r\n",
      "Requirement already satisfied: tzdata>=2022.1 in ./venv/lib/python3.9/site-packages (from pandas>=1.2->seaborn) (2023.3)\r\n",
      "Requirement already satisfied: zipp>=3.1.0 in ./venv/lib/python3.9/site-packages (from importlib-resources>=3.2.0->matplotlib!=3.6.1,>=3.3->seaborn) (3.17.0)\r\n",
      "Requirement already satisfied: six>=1.5 in ./venv/lib/python3.9/site-packages (from python-dateutil>=2.7->matplotlib!=3.6.1,>=3.3->seaborn) (1.16.0)\r\n",
      "\r\n",
      "\u001B[1m[\u001B[0m\u001B[34;49mnotice\u001B[0m\u001B[1;39;49m]\u001B[0m\u001B[39;49m A new release of pip available: \u001B[0m\u001B[31;49m22.3.1\u001B[0m\u001B[39;49m -> \u001B[0m\u001B[32;49m23.3.1\u001B[0m\r\n",
      "\u001B[1m[\u001B[0m\u001B[34;49mnotice\u001B[0m\u001B[1;39;49m]\u001B[0m\u001B[39;49m To update, run: \u001B[0m\u001B[32;49mpip install --upgrade pip\u001B[0m\r\n",
      "Note: you may need to restart the kernel to use updated packages.\n"
     ]
    }
   ],
   "source": [
    "pip install seaborn"
   ],
   "metadata": {
    "collapsed": false,
    "ExecuteTime": {
     "end_time": "2023-11-11T15:58:58.126272Z",
     "start_time": "2023-11-11T15:57:43.478491Z"
    }
   },
   "id": "6301fde79b57a0a2"
  },
  {
   "cell_type": "code",
   "execution_count": 3,
   "id": "initial_id",
   "metadata": {
    "collapsed": true,
    "ExecuteTime": {
     "end_time": "2023-11-11T15:59:00.069123Z",
     "start_time": "2023-11-11T15:58:57.402318Z"
    }
   },
   "outputs": [],
   "source": [
    "# 3rd party imports\n",
    "\n",
    "import pandas as pd \n",
    "import seaborn as sns\n",
    "\n",
    "from datetime import datetime\n",
    "import matplotlib.pylab as plt\n",
    "import numpy as np\n",
    "import matplotlib as plt\n",
    "\n",
    "# Configure Notebook\n",
    "%matplotlib inline\n",
    "plt.style.use('fivethirtyeight')\n",
    "sns.set_context(\"notebook\")\n",
    "import warnings\n",
    "warnings.filterwarnings('ignore')"
   ]
  },
  {
   "cell_type": "markdown",
   "source": [
    "## Import datasets "
   ],
   "metadata": {
    "collapsed": false
   },
   "id": "d466827be69b06e2"
  },
  {
   "cell_type": "markdown",
   "source": [
    "2018 Data"
   ],
   "metadata": {
    "collapsed": false
   },
   "id": "af24e863fe928db1"
  },
  {
   "cell_type": "code",
   "execution_count": 4,
   "outputs": [
    {
     "data": {
      "text/plain": "   trip_id  trip_duration_seconds  from_station_id trip_start_time  \\\n0  2383648                    393             7018   1/1/2018 0:47   \n1  2383649                    625             7184   1/1/2018 0:52   \n2  2383650                    233             7235   1/1/2018 0:55   \n3  2383651                   1138             7202   1/1/2018 0:57   \n4  2383652                    703             7004   1/1/2018 1:00   \n\n                         from_station_name trip_stop_time  to_station_id  \\\n0                   Bremner Blvd / Rees St  1/1/2018 0:54           7176   \n1               Ossington Ave / College St  1/1/2018 1:03           7191   \n2  Bay St / College St (West Side) - SMART  1/1/2018 0:59           7021   \n3         Queen St W / York St (City Hall)  1/1/2018 1:16           7020   \n4                  University Ave / Elm St  1/1/2018 1:12           7060   \n\n                to_station_name      user_type  \n0  Bathurst St / Fort York Blvd  Annual Member  \n1    Central Tech  (Harbord St)  Annual Member  \n2            Bay St / Albert St  Annual Member  \n3       Phoebe St / Spadina Ave  Annual Member  \n4   Princess St / Adelaide St E  Annual Member  ",
      "text/html": "<div>\n<style scoped>\n    .dataframe tbody tr th:only-of-type {\n        vertical-align: middle;\n    }\n\n    .dataframe tbody tr th {\n        vertical-align: top;\n    }\n\n    .dataframe thead th {\n        text-align: right;\n    }\n</style>\n<table border=\"1\" class=\"dataframe\">\n  <thead>\n    <tr style=\"text-align: right;\">\n      <th></th>\n      <th>trip_id</th>\n      <th>trip_duration_seconds</th>\n      <th>from_station_id</th>\n      <th>trip_start_time</th>\n      <th>from_station_name</th>\n      <th>trip_stop_time</th>\n      <th>to_station_id</th>\n      <th>to_station_name</th>\n      <th>user_type</th>\n    </tr>\n  </thead>\n  <tbody>\n    <tr>\n      <th>0</th>\n      <td>2383648</td>\n      <td>393</td>\n      <td>7018</td>\n      <td>1/1/2018 0:47</td>\n      <td>Bremner Blvd / Rees St</td>\n      <td>1/1/2018 0:54</td>\n      <td>7176</td>\n      <td>Bathurst St / Fort York Blvd</td>\n      <td>Annual Member</td>\n    </tr>\n    <tr>\n      <th>1</th>\n      <td>2383649</td>\n      <td>625</td>\n      <td>7184</td>\n      <td>1/1/2018 0:52</td>\n      <td>Ossington Ave / College St</td>\n      <td>1/1/2018 1:03</td>\n      <td>7191</td>\n      <td>Central Tech  (Harbord St)</td>\n      <td>Annual Member</td>\n    </tr>\n    <tr>\n      <th>2</th>\n      <td>2383650</td>\n      <td>233</td>\n      <td>7235</td>\n      <td>1/1/2018 0:55</td>\n      <td>Bay St / College St (West Side) - SMART</td>\n      <td>1/1/2018 0:59</td>\n      <td>7021</td>\n      <td>Bay St / Albert St</td>\n      <td>Annual Member</td>\n    </tr>\n    <tr>\n      <th>3</th>\n      <td>2383651</td>\n      <td>1138</td>\n      <td>7202</td>\n      <td>1/1/2018 0:57</td>\n      <td>Queen St W / York St (City Hall)</td>\n      <td>1/1/2018 1:16</td>\n      <td>7020</td>\n      <td>Phoebe St / Spadina Ave</td>\n      <td>Annual Member</td>\n    </tr>\n    <tr>\n      <th>4</th>\n      <td>2383652</td>\n      <td>703</td>\n      <td>7004</td>\n      <td>1/1/2018 1:00</td>\n      <td>University Ave / Elm St</td>\n      <td>1/1/2018 1:12</td>\n      <td>7060</td>\n      <td>Princess St / Adelaide St E</td>\n      <td>Annual Member</td>\n    </tr>\n  </tbody>\n</table>\n</div>"
     },
     "execution_count": 4,
     "metadata": {},
     "output_type": "execute_result"
    }
   ],
   "source": [
    "#data from each year is divided into 4 quarters\n",
    "\n",
    "bike_share_2018_q1 = pd.read_csv('toronto bike share/bikeshare2018/Bike Share Toronto Ridership_Q1 2018.csv')\n",
    "bike_share_2018_q2 = pd.read_csv('toronto bike share/bikeshare2018/Bike Share Toronto Ridership_Q2 2018.csv')\n",
    "\n",
    "bike_share_2018_q3 = pd.read_csv('toronto bike share/bikeshare2018/Bike Share Toronto Ridership_Q3 2018.csv')\n",
    "\n",
    "bike_share_2018_q4 = pd.read_csv('toronto bike share/bikeshare2018/Bike Share Toronto Ridership_Q4 2018.csv')\n",
    "\n",
    "\n",
    "bike_share_2018_q1.head()"
   ],
   "metadata": {
    "collapsed": false,
    "ExecuteTime": {
     "end_time": "2023-11-11T15:59:54.282662Z",
     "start_time": "2023-11-11T15:58:59.838637Z"
    }
   },
   "id": "c97a8dc8831a4b4c"
  },
  {
   "cell_type": "code",
   "execution_count": 5,
   "outputs": [],
   "source": [
    "bike_share_2018 = pd.concat([bike_share_2018_q1,bike_share_2018_q2, bike_share_2018_q3, bike_share_2018_q4])"
   ],
   "metadata": {
    "collapsed": false,
    "ExecuteTime": {
     "end_time": "2023-11-11T15:59:56.953214Z",
     "start_time": "2023-11-11T15:59:54.261901Z"
    }
   },
   "id": "f607cce8d76f95a1"
  },
  {
   "cell_type": "code",
   "execution_count": 6,
   "outputs": [
    {
     "data": {
      "text/plain": "   trip_id  trip_duration_seconds  from_station_id trip_start_time  \\\n0  2383648                    393             7018   1/1/2018 0:47   \n1  2383649                    625             7184   1/1/2018 0:52   \n2  2383650                    233             7235   1/1/2018 0:55   \n3  2383651                   1138             7202   1/1/2018 0:57   \n4  2383652                    703             7004   1/1/2018 1:00   \n\n                         from_station_name trip_stop_time  to_station_id  \\\n0                   Bremner Blvd / Rees St  1/1/2018 0:54           7176   \n1               Ossington Ave / College St  1/1/2018 1:03           7191   \n2  Bay St / College St (West Side) - SMART  1/1/2018 0:59           7021   \n3         Queen St W / York St (City Hall)  1/1/2018 1:16           7020   \n4                  University Ave / Elm St  1/1/2018 1:12           7060   \n\n                to_station_name      user_type  \n0  Bathurst St / Fort York Blvd  Annual Member  \n1    Central Tech  (Harbord St)  Annual Member  \n2            Bay St / Albert St  Annual Member  \n3       Phoebe St / Spadina Ave  Annual Member  \n4   Princess St / Adelaide St E  Annual Member  ",
      "text/html": "<div>\n<style scoped>\n    .dataframe tbody tr th:only-of-type {\n        vertical-align: middle;\n    }\n\n    .dataframe tbody tr th {\n        vertical-align: top;\n    }\n\n    .dataframe thead th {\n        text-align: right;\n    }\n</style>\n<table border=\"1\" class=\"dataframe\">\n  <thead>\n    <tr style=\"text-align: right;\">\n      <th></th>\n      <th>trip_id</th>\n      <th>trip_duration_seconds</th>\n      <th>from_station_id</th>\n      <th>trip_start_time</th>\n      <th>from_station_name</th>\n      <th>trip_stop_time</th>\n      <th>to_station_id</th>\n      <th>to_station_name</th>\n      <th>user_type</th>\n    </tr>\n  </thead>\n  <tbody>\n    <tr>\n      <th>0</th>\n      <td>2383648</td>\n      <td>393</td>\n      <td>7018</td>\n      <td>1/1/2018 0:47</td>\n      <td>Bremner Blvd / Rees St</td>\n      <td>1/1/2018 0:54</td>\n      <td>7176</td>\n      <td>Bathurst St / Fort York Blvd</td>\n      <td>Annual Member</td>\n    </tr>\n    <tr>\n      <th>1</th>\n      <td>2383649</td>\n      <td>625</td>\n      <td>7184</td>\n      <td>1/1/2018 0:52</td>\n      <td>Ossington Ave / College St</td>\n      <td>1/1/2018 1:03</td>\n      <td>7191</td>\n      <td>Central Tech  (Harbord St)</td>\n      <td>Annual Member</td>\n    </tr>\n    <tr>\n      <th>2</th>\n      <td>2383650</td>\n      <td>233</td>\n      <td>7235</td>\n      <td>1/1/2018 0:55</td>\n      <td>Bay St / College St (West Side) - SMART</td>\n      <td>1/1/2018 0:59</td>\n      <td>7021</td>\n      <td>Bay St / Albert St</td>\n      <td>Annual Member</td>\n    </tr>\n    <tr>\n      <th>3</th>\n      <td>2383651</td>\n      <td>1138</td>\n      <td>7202</td>\n      <td>1/1/2018 0:57</td>\n      <td>Queen St W / York St (City Hall)</td>\n      <td>1/1/2018 1:16</td>\n      <td>7020</td>\n      <td>Phoebe St / Spadina Ave</td>\n      <td>Annual Member</td>\n    </tr>\n    <tr>\n      <th>4</th>\n      <td>2383652</td>\n      <td>703</td>\n      <td>7004</td>\n      <td>1/1/2018 1:00</td>\n      <td>University Ave / Elm St</td>\n      <td>1/1/2018 1:12</td>\n      <td>7060</td>\n      <td>Princess St / Adelaide St E</td>\n      <td>Annual Member</td>\n    </tr>\n  </tbody>\n</table>\n</div>"
     },
     "execution_count": 6,
     "metadata": {},
     "output_type": "execute_result"
    }
   ],
   "source": [
    "bike_share_2018.head()"
   ],
   "metadata": {
    "collapsed": false,
    "ExecuteTime": {
     "end_time": "2023-11-11T15:59:57.148982Z",
     "start_time": "2023-11-11T15:59:56.750526Z"
    }
   },
   "id": "a5197e5061d9bd13"
  },
  {
   "cell_type": "markdown",
   "source": [
    "2019 Data"
   ],
   "metadata": {
    "collapsed": false
   },
   "id": "40ab3504f2945055"
  },
  {
   "cell_type": "code",
   "execution_count": 7,
   "outputs": [],
   "source": [
    "bike_share_2019_q1 = pd.read_csv('toronto bike share/Bikeshare-ridership-2019/2019-Q1.csv')\n",
    "bike_share_2019_q2 = pd.read_csv('toronto bike share/Bikeshare-ridership-2019/2019-Q2.csv')\n",
    "\n",
    "bike_share_2019_q3 = pd.read_csv('toronto bike share/Bikeshare-ridership-2019/2019-Q3.csv')\n",
    "\n",
    "bike_share_2019_q4 = pd.read_csv('toronto bike share/Bikeshare-ridership-2019/2019-Q4.csv')"
   ],
   "metadata": {
    "collapsed": false,
    "ExecuteTime": {
     "end_time": "2023-11-11T16:01:29.228170Z",
     "start_time": "2023-11-11T15:59:56.987426Z"
    }
   },
   "id": "96ac643bd5cbca7"
  },
  {
   "cell_type": "code",
   "execution_count": 8,
   "outputs": [],
   "source": [
    "bike_share_2019 = pd.concat([bike_share_2019_q1,bike_share_2019_q2, bike_share_2019_q3, bike_share_2019_q4])\n"
   ],
   "metadata": {
    "collapsed": false,
    "ExecuteTime": {
     "end_time": "2023-11-11T16:01:36.603927Z",
     "start_time": "2023-11-11T16:01:29.261866Z"
    }
   },
   "id": "22bf8e98a6674ccd"
  },
  {
   "cell_type": "code",
   "execution_count": 9,
   "outputs": [
    {
     "data": {
      "text/plain": "   Trip Id  Trip  Duration  Start Station Id        Start Time  \\\n0  4581278          1547.0              7021  01/01/2019 00:08   \n1  4581279          1112.0              7160  01/01/2019 00:10   \n2  4581280           589.0              7055  01/01/2019 00:15   \n3  4581281           259.0              7012  01/01/2019 00:16   \n4  4581282           281.0              7041  01/01/2019 00:19   \n\n                        Start Station Name  End Station Id          End Time  \\\n0                       Bay St / Albert St          7233.0  01/01/2019 00:33   \n1                 King St W / Tecumseth St          7051.0  01/01/2019 00:29   \n2                   Jarvis St / Carlton St          7013.0  01/01/2019 00:25   \n3  Elizabeth St / Edward St (Bus Terminal)          7235.0  01/01/2019 00:20   \n4                     Edward St / Yonge St          7257.0  01/01/2019 00:24   \n\n                          End Station Name  Bike Id      User Type  \n0                 King / Cowan Ave - SMART     1296  Annual Member  \n1      Wellesley St E / Yonge St (Green P)     2947  Annual Member  \n2                 Scott St / The Esplanade     2293  Annual Member  \n3  Bay St / College St (West Side) - SMART      283  Annual Member  \n4             Dundas St W / St. Patrick St     1799  Annual Member  ",
      "text/html": "<div>\n<style scoped>\n    .dataframe tbody tr th:only-of-type {\n        vertical-align: middle;\n    }\n\n    .dataframe tbody tr th {\n        vertical-align: top;\n    }\n\n    .dataframe thead th {\n        text-align: right;\n    }\n</style>\n<table border=\"1\" class=\"dataframe\">\n  <thead>\n    <tr style=\"text-align: right;\">\n      <th></th>\n      <th>Trip Id</th>\n      <th>Trip  Duration</th>\n      <th>Start Station Id</th>\n      <th>Start Time</th>\n      <th>Start Station Name</th>\n      <th>End Station Id</th>\n      <th>End Time</th>\n      <th>End Station Name</th>\n      <th>Bike Id</th>\n      <th>User Type</th>\n    </tr>\n  </thead>\n  <tbody>\n    <tr>\n      <th>0</th>\n      <td>4581278</td>\n      <td>1547.0</td>\n      <td>7021</td>\n      <td>01/01/2019 00:08</td>\n      <td>Bay St / Albert St</td>\n      <td>7233.0</td>\n      <td>01/01/2019 00:33</td>\n      <td>King / Cowan Ave - SMART</td>\n      <td>1296</td>\n      <td>Annual Member</td>\n    </tr>\n    <tr>\n      <th>1</th>\n      <td>4581279</td>\n      <td>1112.0</td>\n      <td>7160</td>\n      <td>01/01/2019 00:10</td>\n      <td>King St W / Tecumseth St</td>\n      <td>7051.0</td>\n      <td>01/01/2019 00:29</td>\n      <td>Wellesley St E / Yonge St (Green P)</td>\n      <td>2947</td>\n      <td>Annual Member</td>\n    </tr>\n    <tr>\n      <th>2</th>\n      <td>4581280</td>\n      <td>589.0</td>\n      <td>7055</td>\n      <td>01/01/2019 00:15</td>\n      <td>Jarvis St / Carlton St</td>\n      <td>7013.0</td>\n      <td>01/01/2019 00:25</td>\n      <td>Scott St / The Esplanade</td>\n      <td>2293</td>\n      <td>Annual Member</td>\n    </tr>\n    <tr>\n      <th>3</th>\n      <td>4581281</td>\n      <td>259.0</td>\n      <td>7012</td>\n      <td>01/01/2019 00:16</td>\n      <td>Elizabeth St / Edward St (Bus Terminal)</td>\n      <td>7235.0</td>\n      <td>01/01/2019 00:20</td>\n      <td>Bay St / College St (West Side) - SMART</td>\n      <td>283</td>\n      <td>Annual Member</td>\n    </tr>\n    <tr>\n      <th>4</th>\n      <td>4581282</td>\n      <td>281.0</td>\n      <td>7041</td>\n      <td>01/01/2019 00:19</td>\n      <td>Edward St / Yonge St</td>\n      <td>7257.0</td>\n      <td>01/01/2019 00:24</td>\n      <td>Dundas St W / St. Patrick St</td>\n      <td>1799</td>\n      <td>Annual Member</td>\n    </tr>\n  </tbody>\n</table>\n</div>"
     },
     "execution_count": 9,
     "metadata": {},
     "output_type": "execute_result"
    }
   ],
   "source": [
    "bike_share_2019.head()"
   ],
   "metadata": {
    "collapsed": false,
    "ExecuteTime": {
     "end_time": "2023-11-11T16:01:37.223406Z",
     "start_time": "2023-11-11T16:01:36.924953Z"
    }
   },
   "id": "eff190d289b2a82c"
  },
  {
   "cell_type": "markdown",
   "source": [
    "2020 Data"
   ],
   "metadata": {
    "collapsed": false
   },
   "id": "858ba823112f913d"
  },
  {
   "cell_type": "code",
   "execution_count": 10,
   "outputs": [],
   "source": [
    "bike_share_2020_m1 = pd.read_csv('toronto bike share/Bikeshare-ridership-2020/2020-01.csv')\n",
    "bike_share_2020_m1_df = pd.DataFrame(bike_share_2020_m1)\n",
    "\n",
    "bike_share_2020_m2 = pd.read_csv('toronto bike share/Bikeshare-ridership-2020/2020-02.csv')\n",
    "bike_share_2020_m2_df = pd.DataFrame(bike_share_2020_m2)\n",
    "\n",
    "bike_share_2020_m3 = pd.read_csv('toronto bike share/Bikeshare-ridership-2020/2020-03.csv')\n",
    "bike_share_2020_m3_df = pd.DataFrame(bike_share_2020_m3)\n",
    "\n",
    "bike_share_2020_m4 = pd.read_csv('toronto bike share/Bikeshare-ridership-2020/2020-04.csv')\n",
    "bike_share_2020_m4_df = pd.DataFrame(bike_share_2020_m4)\n",
    "\n",
    "bike_share_2020_m5 = pd.read_csv('toronto bike share/Bikeshare-ridership-2020/2020-05.csv')\n",
    "bike_share_2020_m5_df = pd.DataFrame(bike_share_2020_m5)\n",
    "\n",
    "bike_share_2020_m6 = pd.read_csv('toronto bike share/Bikeshare-ridership-2020/2020-06.csv')\n",
    "bike_share_2020_m6_df = pd.DataFrame(bike_share_2020_m6)\n",
    "\n",
    "bike_share_2020_m7 = pd.read_csv('toronto bike share/Bikeshare-ridership-2020/2020-07.csv')\n",
    "bike_share_2020_m7_df = pd.DataFrame(bike_share_2020_m7)\n",
    "\n",
    "bike_share_2020_m8 = pd.read_csv('toronto bike share/Bikeshare-ridership-2020/2020-08.csv')\n",
    "bike_share_2020_m8_df = pd.DataFrame(bike_share_2020_m8)\n",
    "\n",
    "bike_share_2020_m9 = pd.read_csv('toronto bike share/Bikeshare-ridership-2020/2020-09.csv')\n",
    "bike_share_2020_m9_df = pd.DataFrame(bike_share_2020_m9)\n",
    "\n",
    "bike_share_2020_m10 = pd.read_csv('toronto bike share/Bikeshare-ridership-2020/2020-10.csv')\n",
    "bike_share_2020_m10_df = pd.DataFrame(bike_share_2020_m10)\n",
    "\n",
    "bike_share_2020_m11 = pd.read_csv('toronto bike share/Bikeshare-ridership-2020/2020-11.csv')\n",
    "bike_share_2020_m11_df = pd.DataFrame(bike_share_2020_m11)\n",
    "\n",
    "bike_share_2020_m12 = pd.read_csv('toronto bike share/Bikeshare-ridership-2020/2020-12.csv')\n",
    "bike_share_2020_m12_df = pd.DataFrame(bike_share_2020_m12)\n"
   ],
   "metadata": {
    "collapsed": false,
    "ExecuteTime": {
     "end_time": "2023-11-11T16:02:51.310783Z",
     "start_time": "2023-11-11T16:01:37.191924Z"
    }
   },
   "id": "4edadca3bce6363a"
  },
  {
   "cell_type": "code",
   "execution_count": 11,
   "outputs": [
    {
     "data": {
      "text/plain": "   Trip Id  Trip  Duration Start Station Id        Start Time  \\\n0  7334128             648             7003  01/01/2020 00:08   \n1  7334129             419             7007  01/01/2020 00:10   \n2  7334130             566             7113  01/01/2020 00:13   \n3  7334131            1274             7333  01/01/2020 00:17   \n4  7334132             906             7009  01/01/2020 00:19   \n\n             Start Station Name End Station Id          End Time  \\\n0      Madison Ave / Bloor St W         7271.0  01/01/2020 00:19   \n1         College St / Huron St         7163.0  01/01/2020 00:17   \n2  Parliament St / Aberdeen Ave         7108.0  01/01/2020 00:22   \n3       King St E / Victoria St         7311.0  01/01/2020 00:38   \n4         King St E / Jarvis St         7004.0  01/01/2020 00:34   \n\n                  End Station Name Bike Id      User Type  \n0  Yonge St / Alexander St - SMART    3104  Annual Member  \n1               Yonge St / Wood St    2126  Annual Member  \n2           Front St E / Cherry St    4425  Annual Member  \n3      Sherbourne St / Isabella St    4233  Annual Member  \n4          University Ave / Elm St    2341  Casual Member  ",
      "text/html": "<div>\n<style scoped>\n    .dataframe tbody tr th:only-of-type {\n        vertical-align: middle;\n    }\n\n    .dataframe tbody tr th {\n        vertical-align: top;\n    }\n\n    .dataframe thead th {\n        text-align: right;\n    }\n</style>\n<table border=\"1\" class=\"dataframe\">\n  <thead>\n    <tr style=\"text-align: right;\">\n      <th></th>\n      <th>Trip Id</th>\n      <th>Trip  Duration</th>\n      <th>Start Station Id</th>\n      <th>Start Time</th>\n      <th>Start Station Name</th>\n      <th>End Station Id</th>\n      <th>End Time</th>\n      <th>End Station Name</th>\n      <th>Bike Id</th>\n      <th>User Type</th>\n    </tr>\n  </thead>\n  <tbody>\n    <tr>\n      <th>0</th>\n      <td>7334128</td>\n      <td>648</td>\n      <td>7003</td>\n      <td>01/01/2020 00:08</td>\n      <td>Madison Ave / Bloor St W</td>\n      <td>7271.0</td>\n      <td>01/01/2020 00:19</td>\n      <td>Yonge St / Alexander St - SMART</td>\n      <td>3104</td>\n      <td>Annual Member</td>\n    </tr>\n    <tr>\n      <th>1</th>\n      <td>7334129</td>\n      <td>419</td>\n      <td>7007</td>\n      <td>01/01/2020 00:10</td>\n      <td>College St / Huron St</td>\n      <td>7163.0</td>\n      <td>01/01/2020 00:17</td>\n      <td>Yonge St / Wood St</td>\n      <td>2126</td>\n      <td>Annual Member</td>\n    </tr>\n    <tr>\n      <th>2</th>\n      <td>7334130</td>\n      <td>566</td>\n      <td>7113</td>\n      <td>01/01/2020 00:13</td>\n      <td>Parliament St / Aberdeen Ave</td>\n      <td>7108.0</td>\n      <td>01/01/2020 00:22</td>\n      <td>Front St E / Cherry St</td>\n      <td>4425</td>\n      <td>Annual Member</td>\n    </tr>\n    <tr>\n      <th>3</th>\n      <td>7334131</td>\n      <td>1274</td>\n      <td>7333</td>\n      <td>01/01/2020 00:17</td>\n      <td>King St E / Victoria St</td>\n      <td>7311.0</td>\n      <td>01/01/2020 00:38</td>\n      <td>Sherbourne St / Isabella St</td>\n      <td>4233</td>\n      <td>Annual Member</td>\n    </tr>\n    <tr>\n      <th>4</th>\n      <td>7334132</td>\n      <td>906</td>\n      <td>7009</td>\n      <td>01/01/2020 00:19</td>\n      <td>King St E / Jarvis St</td>\n      <td>7004.0</td>\n      <td>01/01/2020 00:34</td>\n      <td>University Ave / Elm St</td>\n      <td>2341</td>\n      <td>Casual Member</td>\n    </tr>\n  </tbody>\n</table>\n</div>"
     },
     "execution_count": 11,
     "metadata": {},
     "output_type": "execute_result"
    }
   ],
   "source": [
    "#concat\n",
    "bikeshare_2020 = pd.concat([bike_share_2020_m1_df, bike_share_2020_m2_df,bike_share_2020_m3_df, bike_share_2020_m4_df, bike_share_2020_m5_df, bike_share_2020_m6_df, bike_share_2020_m7_df, bike_share_2020_m8_df, bike_share_2020_m9_df,  bike_share_2020_m10_df, bike_share_2020_m11_df,bike_share_2020_m12_df])\n",
    "\n",
    "bikeshare_2020.head()"
   ],
   "metadata": {
    "collapsed": false,
    "ExecuteTime": {
     "end_time": "2023-11-11T16:02:54.682888Z",
     "start_time": "2023-11-11T16:02:51.296286Z"
    }
   },
   "id": "214cc717d93f1afc"
  },
  {
   "cell_type": "markdown",
   "source": [
    "2021 Data"
   ],
   "metadata": {
    "collapsed": false
   },
   "id": "59dc6bb8040c451b"
  },
  {
   "cell_type": "code",
   "execution_count": 13,
   "outputs": [],
   "source": [
    "bike_share_2021_m1 = pd.read_csv('toronto bike share/bikeshare-ridership-2021/Bike share ridership 2021-01.csv', encoding='cp1252')\n",
    "bike_share_2021_m1_df = pd.DataFrame(bike_share_2021_m1)\n",
    "\n",
    "bike_share_2021_m2 = pd.read_csv('toronto bike share/bikeshare-ridership-2021/Bike share ridership 2021-02.csv', encoding='cp1252')\n",
    "bike_share_2021_m2_df = pd.DataFrame(bike_share_2021_m2)\n",
    "\n",
    "bike_share_2021_m3 = pd.read_csv('toronto bike share/bikeshare-ridership-2021/Bike share ridership 2021-03.csv', encoding='cp1252')\n",
    "bike_share_2021_m3_df = pd.DataFrame(bike_share_2021_m3)\n",
    "\n",
    "bike_share_2021_m4 = pd.read_csv('toronto bike share/bikeshare-ridership-2021/Bike share ridership 2021-04.csv', encoding='cp1252')\n",
    "bike_share_2021_m4_df = pd.DataFrame(bike_share_2021_m4)\n",
    "\n",
    "bike_share_2021_m5 = pd.read_csv('toronto bike share/bikeshare-ridership-2021/Bike share ridership 2021-05.csv', encoding='cp1252')\n",
    "bike_share_2021_m5_df = pd.DataFrame(bike_share_2021_m5)\n",
    "\n",
    "bike_share_2021_m6 = pd.read_csv('toronto bike share/bikeshare-ridership-2021/Bike share ridership 2021-06.csv', encoding='cp1252')\n",
    "bike_share_2021_m6_df = pd.DataFrame(bike_share_2021_m6)\n",
    "\n",
    "bike_share_2021_m7 = pd.read_csv('toronto bike share/bikeshare-ridership-2021/Bike share ridership 2021-07.csv', encoding='cp1252')\n",
    "bike_share_2021_m7_df = pd.DataFrame(bike_share_2021_m7)\n",
    "\n",
    "bike_share_2021_m8 = pd.read_csv('toronto bike share/bikeshare-ridership-2021/Bike share ridership 2021-08.csv', encoding='cp1252')\n",
    "bike_share_2021_m8_df = pd.DataFrame(bike_share_2021_m8)\n",
    "\n",
    "bike_share_2021_m9 = pd.read_csv('toronto bike share/bikeshare-ridership-2021/Bike share ridership 2021-09.csv', encoding='cp1252')\n",
    "bike_share_2021_m9_df = pd.DataFrame(bike_share_2021_m9)\n",
    "\n",
    "bike_share_2021_m10 = pd.read_csv('toronto bike share/bikeshare-ridership-2021/Bike share ridership 2021-10.csv', encoding='cp1252')\n",
    "bike_share_2021_m10_df = pd.DataFrame(bike_share_2021_m10)\n",
    "\n",
    "bike_share_2021_m11 = pd.read_csv('toronto bike share/bikeshare-ridership-2021/Bike share ridership 2021-11.csv', encoding='cp1252')\n",
    "bike_share_2021_m11_df = pd.DataFrame(bike_share_2021_m11)\n",
    "\n",
    "bike_share_2021_m12 = pd.read_csv('toronto bike share/bikeshare-ridership-2021/Bike share ridership 2021-12.csv', encoding='cp1252')\n",
    "bike_share_2021_m12_df = pd.DataFrame(bike_share_2021_m12)"
   ],
   "metadata": {
    "collapsed": false,
    "ExecuteTime": {
     "end_time": "2023-11-11T16:04:11.167695Z",
     "start_time": "2023-11-11T16:04:04.275790Z"
    }
   },
   "id": "ff0f498eed414f5d"
  },
  {
   "cell_type": "code",
   "execution_count": 14,
   "outputs": [
    {
     "data": {
      "text/plain": "      Trip Id  Trip  Duration  Start Station Id        Start Time  \\\n0  10644218.0            1315              7021  01/01/2021 00:04   \n1  10644220.0             396              7534  01/01/2021 00:07   \n2  10644221.0              86              7162  01/01/2021 00:10   \n3  10644222.0             741              7003  01/01/2021 00:10   \n4  10644223.0            2073              7562  01/01/2021 00:11   \n\n                     Start Station Name  End Station Id          End Time  \\\n0                    Bay St / Albert St          7164.0  01/01/2021 00:26   \n1               Walnut Ave / Queen St W          7524.0  01/01/2021 00:13   \n2              Hayter St / Laplante Ave          7006.0  01/01/2021 00:11   \n3              Madison Ave / Bloor St W          7272.0  01/01/2021 00:22   \n4  Priscilla  Ave / Dundas St W - SMART          7562.0  01/01/2021 00:45   \n\n                           End Station Name  Bike Id      User Type  \\\n0  Gould St / Yonge St (Ryerson University)   6795.0  Annual Member   \n1                               Lisgar Park   4176.0  Casual Member   \n2           Bay St / College St (East Side)   1814.0  Annual Member   \n3           Yonge St / Dundonald St - SMART    198.0  Casual Member   \n4      Priscilla  Ave / Dundas St W - SMART   6688.0  Casual Member   \n\n   ï»¿Trip Id  \n0         NaN  \n1         NaN  \n2         NaN  \n3         NaN  \n4         NaN  ",
      "text/html": "<div>\n<style scoped>\n    .dataframe tbody tr th:only-of-type {\n        vertical-align: middle;\n    }\n\n    .dataframe tbody tr th {\n        vertical-align: top;\n    }\n\n    .dataframe thead th {\n        text-align: right;\n    }\n</style>\n<table border=\"1\" class=\"dataframe\">\n  <thead>\n    <tr style=\"text-align: right;\">\n      <th></th>\n      <th>Trip Id</th>\n      <th>Trip  Duration</th>\n      <th>Start Station Id</th>\n      <th>Start Time</th>\n      <th>Start Station Name</th>\n      <th>End Station Id</th>\n      <th>End Time</th>\n      <th>End Station Name</th>\n      <th>Bike Id</th>\n      <th>User Type</th>\n      <th>ï»¿Trip Id</th>\n    </tr>\n  </thead>\n  <tbody>\n    <tr>\n      <th>0</th>\n      <td>10644218.0</td>\n      <td>1315</td>\n      <td>7021</td>\n      <td>01/01/2021 00:04</td>\n      <td>Bay St / Albert St</td>\n      <td>7164.0</td>\n      <td>01/01/2021 00:26</td>\n      <td>Gould St / Yonge St (Ryerson University)</td>\n      <td>6795.0</td>\n      <td>Annual Member</td>\n      <td>NaN</td>\n    </tr>\n    <tr>\n      <th>1</th>\n      <td>10644220.0</td>\n      <td>396</td>\n      <td>7534</td>\n      <td>01/01/2021 00:07</td>\n      <td>Walnut Ave / Queen St W</td>\n      <td>7524.0</td>\n      <td>01/01/2021 00:13</td>\n      <td>Lisgar Park</td>\n      <td>4176.0</td>\n      <td>Casual Member</td>\n      <td>NaN</td>\n    </tr>\n    <tr>\n      <th>2</th>\n      <td>10644221.0</td>\n      <td>86</td>\n      <td>7162</td>\n      <td>01/01/2021 00:10</td>\n      <td>Hayter St / Laplante Ave</td>\n      <td>7006.0</td>\n      <td>01/01/2021 00:11</td>\n      <td>Bay St / College St (East Side)</td>\n      <td>1814.0</td>\n      <td>Annual Member</td>\n      <td>NaN</td>\n    </tr>\n    <tr>\n      <th>3</th>\n      <td>10644222.0</td>\n      <td>741</td>\n      <td>7003</td>\n      <td>01/01/2021 00:10</td>\n      <td>Madison Ave / Bloor St W</td>\n      <td>7272.0</td>\n      <td>01/01/2021 00:22</td>\n      <td>Yonge St / Dundonald St - SMART</td>\n      <td>198.0</td>\n      <td>Casual Member</td>\n      <td>NaN</td>\n    </tr>\n    <tr>\n      <th>4</th>\n      <td>10644223.0</td>\n      <td>2073</td>\n      <td>7562</td>\n      <td>01/01/2021 00:11</td>\n      <td>Priscilla  Ave / Dundas St W - SMART</td>\n      <td>7562.0</td>\n      <td>01/01/2021 00:45</td>\n      <td>Priscilla  Ave / Dundas St W - SMART</td>\n      <td>6688.0</td>\n      <td>Casual Member</td>\n      <td>NaN</td>\n    </tr>\n  </tbody>\n</table>\n</div>"
     },
     "execution_count": 14,
     "metadata": {},
     "output_type": "execute_result"
    }
   ],
   "source": [
    "bikeshare_2021 = pd.concat([bike_share_2021_m1_df, bike_share_2021_m2_df,bike_share_2021_m3_df, bike_share_2021_m4_df, bike_share_2021_m5_df, bike_share_2021_m6_df, bike_share_2021_m7_df, bike_share_2021_m8_df, bike_share_2021_m9_df,  bike_share_2021_m10_df, bike_share_2021_m11_df,bike_share_2021_m12_df])\n",
    "\n",
    "bikeshare_2021.head()"
   ],
   "metadata": {
    "collapsed": false,
    "ExecuteTime": {
     "end_time": "2023-11-11T16:04:37.646285Z",
     "start_time": "2023-11-11T16:04:37.214784Z"
    }
   },
   "id": "e0e10bf7e4df6746"
  },
  {
   "cell_type": "markdown",
   "source": [
    "2022 Data"
   ],
   "metadata": {
    "collapsed": false
   },
   "id": "789cbfe48e073bf3"
  },
  {
   "cell_type": "code",
   "execution_count": 21,
   "outputs": [],
   "source": [
    "bike_share_2022_m1 = pd.read_csv('toronto bike share/bikeshare-ridership-2022/Bike share ridership 2022-01.csv', encoding='cp1252')\n",
    "bike_share_2022_m1_df = pd.DataFrame(bike_share_2022_m1)\n",
    "\n",
    "bike_share_2022_m2 = pd.read_csv('toronto bike share/bikeshare-ridership-2022/Bike share ridership 2022-02.csv', encoding='cp1252')\n",
    "bike_share_2022_m2_df = pd.DataFrame(bike_share_2022_m2)\n",
    "\n",
    "bike_share_2022_m3 = pd.read_csv('toronto bike share/bikeshare-ridership-2022/Bike share ridership 2022-03.csv', encoding='cp1252')\n",
    "bike_share_2022_m3_df = pd.DataFrame(bike_share_2022_m3)\n",
    "\n",
    "bike_share_2022_m4 = pd.read_csv('toronto bike share/bikeshare-ridership-2022/Bike share ridership 2022-04.csv', encoding='cp1252')\n",
    "bike_share_2022_m4_df = pd.DataFrame(bike_share_2022_m4)\n",
    "\n",
    "bike_share_2022_m5 = pd.read_csv('toronto bike share/bikeshare-ridership-2022/Bike share ridership 2022-05.csv', encoding='cp1252')\n",
    "bike_share_2022_m5_df = pd.DataFrame(bike_share_2022_m5)\n",
    "\n",
    "bike_share_2022_m6 = pd.read_csv('toronto bike share/bikeshare-ridership-2022/Bike share ridership 2022-06.csv', encoding='cp1252')\n",
    "bike_share_2022_m6_df = pd.DataFrame(bike_share_2022_m6)\n",
    "\n",
    "bike_share_2022_m7 = pd.read_csv('toronto bike share/bikeshare-ridership-2022/Bike share ridership 2022-07.csv', encoding='cp1252')\n",
    "bike_share_2022_m7_df = pd.DataFrame(bike_share_2022_m7)\n",
    "\n",
    "bike_share_2022_m8 = pd.read_csv('toronto bike share/bikeshare-ridership-2022/Bike share ridership 2022-08.csv', encoding='cp1252')\n",
    "bike_share_2022_m8_df = pd.DataFrame(bike_share_2022_m8)\n",
    "\n",
    "bike_share_2022_m9 = pd.read_csv('toronto bike share/bikeshare-ridership-2022/Bike share ridership 2022-09.csv', encoding='cp1252')\n",
    "bike_share_2022_m9_df = pd.DataFrame(bike_share_2022_m9)\n",
    "\n",
    "bike_share_2022_m10 = pd.read_csv('toronto bike share/bikeshare-ridership-2022/Bike share ridership 2022-10.csv', encoding='cp1252')\n",
    "bike_share_2022_m10_df = pd.DataFrame(bike_share_2022_m10)\n",
    "\n",
    "bike_share_2022_m11 = pd.read_csv('toronto bike share/bikeshare-ridership-2022/Bike share ridership 2022-11.csv', encoding='cp1252')\n",
    "bike_share_2022_m11_df = pd.DataFrame(bike_share_2022_m11)\n",
    "\n",
    "bike_share_2022_m12 = pd.read_csv('toronto bike share/bikeshare-ridership-2022/Bike share ridership 2022-12.csv', encoding='cp1252')\n",
    "bike_share_2022_m12_df = pd.DataFrame(bike_share_2022_m12)"
   ],
   "metadata": {
    "collapsed": false,
    "ExecuteTime": {
     "end_time": "2023-11-11T16:14:17.818447Z",
     "start_time": "2023-11-11T16:14:05.896973Z"
    }
   },
   "id": "bbbcd11d6d51c715"
  },
  {
   "cell_type": "code",
   "execution_count": 22,
   "outputs": [
    {
     "data": {
      "text/plain": "   ï»¿Trip Id  Trip  Duration  Start Station Id        Start Time  \\\n0  14805109.0            4335              7334  01/01/2022 00:02   \n1  14805110.0             126              7443  01/01/2022 00:02   \n2  14805112.0             942              7399  01/01/2022 00:04   \n3  14805113.0            4256              7334  01/01/2022 00:04   \n4  14805114.0            4353              7334  01/01/2022 00:05   \n\n                Start Station Name  End Station Id          End Time  \\\n0  Simcoe St / Wellington St North          7269.0  01/01/2022 01:15   \n1          Dundas St E / George St          7270.0  01/01/2022 00:05   \n2     Lower Jarvis / Queens Quay E          7686.0  01/01/2022 00:19   \n3  Simcoe St / Wellington St North          7269.0  01/01/2022 01:15   \n4  Simcoe St / Wellington St North          7038.0  01/01/2022 01:17   \n\n                  End Station Name  Bike Id      User Type  Trip Id  \n0  Toronto Eaton Centre (Yonge St)     5139  Casual Member      NaN  \n1  Church St / Dundas St E - SMART     3992  Annual Member      NaN  \n2                              NaN      361  Annual Member      NaN  \n3  Toronto Eaton Centre (Yonge St)     4350  Casual Member      NaN  \n4           Dundas St W / Yonge St     5074  Casual Member      NaN  ",
      "text/html": "<div>\n<style scoped>\n    .dataframe tbody tr th:only-of-type {\n        vertical-align: middle;\n    }\n\n    .dataframe tbody tr th {\n        vertical-align: top;\n    }\n\n    .dataframe thead th {\n        text-align: right;\n    }\n</style>\n<table border=\"1\" class=\"dataframe\">\n  <thead>\n    <tr style=\"text-align: right;\">\n      <th></th>\n      <th>ï»¿Trip Id</th>\n      <th>Trip  Duration</th>\n      <th>Start Station Id</th>\n      <th>Start Time</th>\n      <th>Start Station Name</th>\n      <th>End Station Id</th>\n      <th>End Time</th>\n      <th>End Station Name</th>\n      <th>Bike Id</th>\n      <th>User Type</th>\n      <th>Trip Id</th>\n    </tr>\n  </thead>\n  <tbody>\n    <tr>\n      <th>0</th>\n      <td>14805109.0</td>\n      <td>4335</td>\n      <td>7334</td>\n      <td>01/01/2022 00:02</td>\n      <td>Simcoe St / Wellington St North</td>\n      <td>7269.0</td>\n      <td>01/01/2022 01:15</td>\n      <td>Toronto Eaton Centre (Yonge St)</td>\n      <td>5139</td>\n      <td>Casual Member</td>\n      <td>NaN</td>\n    </tr>\n    <tr>\n      <th>1</th>\n      <td>14805110.0</td>\n      <td>126</td>\n      <td>7443</td>\n      <td>01/01/2022 00:02</td>\n      <td>Dundas St E / George St</td>\n      <td>7270.0</td>\n      <td>01/01/2022 00:05</td>\n      <td>Church St / Dundas St E - SMART</td>\n      <td>3992</td>\n      <td>Annual Member</td>\n      <td>NaN</td>\n    </tr>\n    <tr>\n      <th>2</th>\n      <td>14805112.0</td>\n      <td>942</td>\n      <td>7399</td>\n      <td>01/01/2022 00:04</td>\n      <td>Lower Jarvis / Queens Quay E</td>\n      <td>7686.0</td>\n      <td>01/01/2022 00:19</td>\n      <td>NaN</td>\n      <td>361</td>\n      <td>Annual Member</td>\n      <td>NaN</td>\n    </tr>\n    <tr>\n      <th>3</th>\n      <td>14805113.0</td>\n      <td>4256</td>\n      <td>7334</td>\n      <td>01/01/2022 00:04</td>\n      <td>Simcoe St / Wellington St North</td>\n      <td>7269.0</td>\n      <td>01/01/2022 01:15</td>\n      <td>Toronto Eaton Centre (Yonge St)</td>\n      <td>4350</td>\n      <td>Casual Member</td>\n      <td>NaN</td>\n    </tr>\n    <tr>\n      <th>4</th>\n      <td>14805114.0</td>\n      <td>4353</td>\n      <td>7334</td>\n      <td>01/01/2022 00:05</td>\n      <td>Simcoe St / Wellington St North</td>\n      <td>7038.0</td>\n      <td>01/01/2022 01:17</td>\n      <td>Dundas St W / Yonge St</td>\n      <td>5074</td>\n      <td>Casual Member</td>\n      <td>NaN</td>\n    </tr>\n  </tbody>\n</table>\n</div>"
     },
     "execution_count": 22,
     "metadata": {},
     "output_type": "execute_result"
    }
   ],
   "source": [
    "bikeshare_2022 = pd.concat([bike_share_2022_m1_df, bike_share_2022_m2_df,bike_share_2022_m3_df, bike_share_2022_m4_df, bike_share_2022_m5_df, bike_share_2022_m6_df, bike_share_2022_m7_df, bike_share_2022_m8_df, bike_share_2022_m9_df,  bike_share_2022_m10_df, bike_share_2022_m11_df,bike_share_2022_m12_df])\n",
    "\n",
    "bikeshare_2022.head()"
   ],
   "metadata": {
    "collapsed": false,
    "ExecuteTime": {
     "end_time": "2023-11-11T16:14:32.638670Z",
     "start_time": "2023-11-11T16:14:30.703687Z"
    }
   },
   "id": "d0c0969c6dc71de8"
  },
  {
   "cell_type": "markdown",
   "source": [
    "2023 Data"
   ],
   "metadata": {
    "collapsed": false
   },
   "id": "934d1d0ecb1e002a"
  },
  {
   "cell_type": "code",
   "execution_count": 23,
   "outputs": [],
   "source": [
    "bike_share_2023_m1 = pd.read_csv('toronto bike share/bikeshare-ridership-2023/Bike share ridership 2023-01.csv', encoding='cp1252')\n",
    "bike_share_2023_m1_df = pd.DataFrame(bike_share_2023_m1)\n",
    "\n",
    "bike_share_2023_m2 = pd.read_csv('toronto bike share/bikeshare-ridership-2023/Bike share ridership 2023-02.csv', encoding='cp1252')\n",
    "bike_share_2023_m2_df = pd.DataFrame(bike_share_2023_m2)\n",
    "\n",
    "bike_share_2023_m3 = pd.read_csv('toronto bike share/bikeshare-ridership-2023/Bike share ridership 2023-03.csv', encoding='cp1252')\n",
    "bike_share_2023_m3_df = pd.DataFrame(bike_share_2023_m3)\n"
   ],
   "metadata": {
    "collapsed": false,
    "ExecuteTime": {
     "end_time": "2023-11-11T17:22:21.883437Z",
     "start_time": "2023-11-11T17:22:20.625849Z"
    }
   },
   "id": "b2919b6415bcb895"
  },
  {
   "cell_type": "code",
   "execution_count": 24,
   "outputs": [
    {
     "data": {
      "text/plain": "   ï»¿Trip Id  Trip  Duration  Start Station Id        Start Time  \\\n0    20148784             840              7022  01/01/2023 00:00   \n1    20148785             722              7399  01/01/2023 00:01   \n2    20148786            1054              7269  01/01/2023 00:02   \n3    20148790            1329              7721  01/01/2023 00:04   \n4    20148791            1291              7721  01/01/2023 00:04   \n\n                Start Station Name  End Station Id          End Time  \\\n0           Simcoe St / Queen St W          7703.0  01/01/2023 00:14   \n1     Lower Jarvis / Queens Quay E          7533.0  01/01/2023 00:13   \n2  Toronto Eaton Centre (Yonge St)          7076.0  01/01/2023 00:20   \n3                              NaN          7685.0  01/01/2023 00:26   \n4                              NaN          7685.0  01/01/2023 00:26   \n\n             End Station Name  Bike Id      User Type  \n0                         NaN     1770  Casual Member  \n1  Housey St / Dan Leckie Way     6400  Casual Member  \n2     York St / Queens Quay W     4068  Annual Member  \n3                         NaN      427  Casual Member  \n4                         NaN     1840  Casual Member  ",
      "text/html": "<div>\n<style scoped>\n    .dataframe tbody tr th:only-of-type {\n        vertical-align: middle;\n    }\n\n    .dataframe tbody tr th {\n        vertical-align: top;\n    }\n\n    .dataframe thead th {\n        text-align: right;\n    }\n</style>\n<table border=\"1\" class=\"dataframe\">\n  <thead>\n    <tr style=\"text-align: right;\">\n      <th></th>\n      <th>ï»¿Trip Id</th>\n      <th>Trip  Duration</th>\n      <th>Start Station Id</th>\n      <th>Start Time</th>\n      <th>Start Station Name</th>\n      <th>End Station Id</th>\n      <th>End Time</th>\n      <th>End Station Name</th>\n      <th>Bike Id</th>\n      <th>User Type</th>\n    </tr>\n  </thead>\n  <tbody>\n    <tr>\n      <th>0</th>\n      <td>20148784</td>\n      <td>840</td>\n      <td>7022</td>\n      <td>01/01/2023 00:00</td>\n      <td>Simcoe St / Queen St W</td>\n      <td>7703.0</td>\n      <td>01/01/2023 00:14</td>\n      <td>NaN</td>\n      <td>1770</td>\n      <td>Casual Member</td>\n    </tr>\n    <tr>\n      <th>1</th>\n      <td>20148785</td>\n      <td>722</td>\n      <td>7399</td>\n      <td>01/01/2023 00:01</td>\n      <td>Lower Jarvis / Queens Quay E</td>\n      <td>7533.0</td>\n      <td>01/01/2023 00:13</td>\n      <td>Housey St / Dan Leckie Way</td>\n      <td>6400</td>\n      <td>Casual Member</td>\n    </tr>\n    <tr>\n      <th>2</th>\n      <td>20148786</td>\n      <td>1054</td>\n      <td>7269</td>\n      <td>01/01/2023 00:02</td>\n      <td>Toronto Eaton Centre (Yonge St)</td>\n      <td>7076.0</td>\n      <td>01/01/2023 00:20</td>\n      <td>York St / Queens Quay W</td>\n      <td>4068</td>\n      <td>Annual Member</td>\n    </tr>\n    <tr>\n      <th>3</th>\n      <td>20148790</td>\n      <td>1329</td>\n      <td>7721</td>\n      <td>01/01/2023 00:04</td>\n      <td>NaN</td>\n      <td>7685.0</td>\n      <td>01/01/2023 00:26</td>\n      <td>NaN</td>\n      <td>427</td>\n      <td>Casual Member</td>\n    </tr>\n    <tr>\n      <th>4</th>\n      <td>20148791</td>\n      <td>1291</td>\n      <td>7721</td>\n      <td>01/01/2023 00:04</td>\n      <td>NaN</td>\n      <td>7685.0</td>\n      <td>01/01/2023 00:26</td>\n      <td>NaN</td>\n      <td>1840</td>\n      <td>Casual Member</td>\n    </tr>\n  </tbody>\n</table>\n</div>"
     },
     "execution_count": 24,
     "metadata": {},
     "output_type": "execute_result"
    }
   ],
   "source": [
    "bikeshare_2023 = pd.concat([bike_share_2023_m1_df, bike_share_2023_m2_df, bike_share_2023_m3_df])\n",
    "\n",
    "bikeshare_2023.head()"
   ],
   "metadata": {
    "collapsed": false,
    "ExecuteTime": {
     "end_time": "2023-11-11T17:22:26.776658Z",
     "start_time": "2023-11-11T17:22:26.697831Z"
    }
   },
   "id": "c0dfe9333d2f8e0d"
  },
  {
   "cell_type": "markdown",
   "source": [
    "Save the csv file in the project folder."
   ],
   "metadata": {
    "collapsed": false
   },
   "id": "f7e7b11a86498ae"
  },
  {
   "cell_type": "code",
   "execution_count": 25,
   "outputs": [],
   "source": [
    "bike_share_2018.to_csv('bikeshare_2018.csv')\n",
    "bike_share_2019.to_csv('bikeshare_2019.csv')\n",
    "bikeshare_2020.to_csv('bikeshare_2020.csv')\n",
    "bikeshare_2021.to_csv('bikeshare_2021.csv')\n",
    "bikeshare_2022.to_csv('bikeshare_2022.csv')\n",
    "bikeshare_2023.to_csv('bikeshare_2023.csv')"
   ],
   "metadata": {
    "collapsed": false,
    "ExecuteTime": {
     "end_time": "2023-11-11T17:28:28.186891Z",
     "start_time": "2023-11-11T17:25:37.244511Z"
    }
   },
   "id": "13118e44e0be4536"
  },
  {
   "cell_type": "code",
   "execution_count": null,
   "outputs": [],
   "source": [],
   "metadata": {
    "collapsed": false
   },
   "id": "e9fa24843cb866bc"
  }
 ],
 "metadata": {
  "kernelspec": {
   "display_name": "Python 3",
   "language": "python",
   "name": "python3"
  },
  "language_info": {
   "codemirror_mode": {
    "name": "ipython",
    "version": 2
   },
   "file_extension": ".py",
   "mimetype": "text/x-python",
   "name": "python",
   "nbconvert_exporter": "python",
   "pygments_lexer": "ipython2",
   "version": "2.7.6"
  }
 },
 "nbformat": 4,
 "nbformat_minor": 5
}
