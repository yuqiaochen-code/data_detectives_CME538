{
 "cells": [
  {
   "cell_type": "code",
   "execution_count": 58,
   "id": "initial_id",
   "metadata": {
    "collapsed": true,
    "ExecuteTime": {
     "end_time": "2023-11-20T00:38:39.450146Z",
     "start_time": "2023-11-20T00:38:39.419646Z"
    }
   },
   "outputs": [],
   "source": [
    "import pandas as pd\n",
    "import matplotlib.pyplot as plt\n",
    "import requests\n",
    "import geopandas as gpd\n",
    "import re\n",
    "import datetime as dt\n",
    "import seaborn as sns"
   ]
  },
  {
   "cell_type": "markdown",
   "source": [
    "2023 Dataset"
   ],
   "metadata": {
    "collapsed": false
   },
   "id": "b45d5e4c2c1d0268"
  },
  {
   "cell_type": "code",
   "execution_count": 2,
   "outputs": [
    {
     "name": "stdout",
     "output_type": "stream",
     "text": [
      "<class 'pandas.core.frame.DataFrame'>\n",
      "RangeIndex: 577456 entries, 0 to 577455\n",
      "Data columns (total 11 columns):\n",
      " #   Column              Non-Null Count   Dtype  \n",
      "---  ------              --------------   -----  \n",
      " 0   Unnamed: 0          577456 non-null  int64  \n",
      " 1   trip id             577456 non-null  int64  \n",
      " 2   trip duration       577456 non-null  int64  \n",
      " 3   start station id    577456 non-null  int64  \n",
      " 4   Start Time          577456 non-null  object \n",
      " 5   Start Station Name  540508 non-null  object \n",
      " 6   end station id      577213 non-null  float64\n",
      " 7   End Time            577456 non-null  object \n",
      " 8   End Station Name    539487 non-null  object \n",
      " 9   Bike Id             577456 non-null  int64  \n",
      " 10  user type           577456 non-null  object \n",
      "dtypes: float64(1), int64(5), object(5)\n",
      "memory usage: 48.5+ MB\n"
     ]
    }
   ],
   "source": [
    "bikeshare_2023 = pd.read_csv('bikeshare_2023.csv')\n",
    "bikeshare_2023 = bikeshare_2023.rename(columns = {'ï»¿Trip Id':'trip id', 'Trip  Duration': 'trip duration','Start Station Id':'start station id','End Station Id':'end station id','User Type':'user type'})\n",
    "bikeshare_2023.info()"
   ],
   "metadata": {
    "collapsed": false,
    "ExecuteTime": {
     "end_time": "2023-11-20T00:05:09.101389Z",
     "start_time": "2023-11-20T00:05:07.411337Z"
    }
   },
   "id": "81619de7f71cc2e1"
  },
  {
   "cell_type": "markdown",
   "source": [
    "2018 -2022 datasets"
   ],
   "metadata": {
    "collapsed": false
   },
   "id": "58ccf8afbdc546fb"
  },
  {
   "cell_type": "code",
   "execution_count": 3,
   "outputs": [
    {
     "name": "stderr",
     "output_type": "stream",
     "text": [
      "/var/folders/5j/22sv3wgn7k7cftl76slzc3900000gn/T/ipykernel_78614/2215666230.py:3: DtypeWarning: Columns (3,6,9) have mixed types. Specify dtype option on import or set low_memory=False.\n",
      "  bikeshare_2020 = pd.read_csv('bikeshare_2020.csv')\n"
     ]
    }
   ],
   "source": [
    "bikeshare_2022 = pd.read_csv('bikeshare_2022.csv')\n",
    "bikeshare_2021 = pd.read_csv('bikeshare_2021.csv')\n",
    "bikeshare_2020 = pd.read_csv('bikeshare_2020.csv')\n",
    "bikeshare_2019 = pd.read_csv('bikeshare_2019.csv')\n",
    "bikeshare_2018 = pd.read_csv('bikeshare_2018.csv')"
   ],
   "metadata": {
    "collapsed": false,
    "ExecuteTime": {
     "end_time": "2023-11-20T00:07:01.471934Z",
     "start_time": "2023-11-20T00:06:20.298126Z"
    }
   },
   "id": "42af1eb62b4d642a"
  },
  {
   "cell_type": "markdown",
   "source": [
    "2023"
   ],
   "metadata": {
    "collapsed": false
   },
   "id": "6c1323998942e251"
  },
  {
   "cell_type": "code",
   "execution_count": 4,
   "outputs": [
    {
     "data": {
      "text/plain": "               trip id\nuser type             \nAnnual Member   143722\nCasual Member   433734",
      "text/html": "<div>\n<style scoped>\n    .dataframe tbody tr th:only-of-type {\n        vertical-align: middle;\n    }\n\n    .dataframe tbody tr th {\n        vertical-align: top;\n    }\n\n    .dataframe thead th {\n        text-align: right;\n    }\n</style>\n<table border=\"1\" class=\"dataframe\">\n  <thead>\n    <tr style=\"text-align: right;\">\n      <th></th>\n      <th>trip id</th>\n    </tr>\n    <tr>\n      <th>user type</th>\n      <th></th>\n    </tr>\n  </thead>\n  <tbody>\n    <tr>\n      <th>Annual Member</th>\n      <td>143722</td>\n    </tr>\n    <tr>\n      <th>Casual Member</th>\n      <td>433734</td>\n    </tr>\n  </tbody>\n</table>\n</div>"
     },
     "execution_count": 4,
     "metadata": {},
     "output_type": "execute_result"
    }
   ],
   "source": [
    "member_comp_2023 = bikeshare_2023.groupby('user type').agg({'trip id':'count'})\n",
    "member_comp_2023.head()"
   ],
   "metadata": {
    "collapsed": false,
    "ExecuteTime": {
     "end_time": "2023-11-20T00:08:20.243829Z",
     "start_time": "2023-11-20T00:08:20.063519Z"
    }
   },
   "id": "2117f036d7c59da5"
  },
  {
   "cell_type": "code",
   "execution_count": 11,
   "outputs": [
    {
     "data": {
      "text/plain": "   month      user type  trip id\n0      1  Annual Member    50000\n1      1  Casual Member   130135\n2      2  Annual Member    42761\n3      2  Casual Member   130015\n4      3  Annual Member    50961\n5      3  Casual Member   173584",
      "text/html": "<div>\n<style scoped>\n    .dataframe tbody tr th:only-of-type {\n        vertical-align: middle;\n    }\n\n    .dataframe tbody tr th {\n        vertical-align: top;\n    }\n\n    .dataframe thead th {\n        text-align: right;\n    }\n</style>\n<table border=\"1\" class=\"dataframe\">\n  <thead>\n    <tr style=\"text-align: right;\">\n      <th></th>\n      <th>month</th>\n      <th>user type</th>\n      <th>trip id</th>\n    </tr>\n  </thead>\n  <tbody>\n    <tr>\n      <th>0</th>\n      <td>1</td>\n      <td>Annual Member</td>\n      <td>50000</td>\n    </tr>\n    <tr>\n      <th>1</th>\n      <td>1</td>\n      <td>Casual Member</td>\n      <td>130135</td>\n    </tr>\n    <tr>\n      <th>2</th>\n      <td>2</td>\n      <td>Annual Member</td>\n      <td>42761</td>\n    </tr>\n    <tr>\n      <th>3</th>\n      <td>2</td>\n      <td>Casual Member</td>\n      <td>130015</td>\n    </tr>\n    <tr>\n      <th>4</th>\n      <td>3</td>\n      <td>Annual Member</td>\n      <td>50961</td>\n    </tr>\n    <tr>\n      <th>5</th>\n      <td>3</td>\n      <td>Casual Member</td>\n      <td>173584</td>\n    </tr>\n  </tbody>\n</table>\n</div>"
     },
     "execution_count": 11,
     "metadata": {},
     "output_type": "execute_result"
    }
   ],
   "source": [
    "bikeshare_2023['month'] = pd.to_datetime(bikeshare_2023['Start Time']).dt.month\n",
    "member_trend_2023 = bikeshare_2023.groupby(['month','user type']).agg({'trip id':'count'}).reset_index()\n",
    "member_trend_2023"
   ],
   "metadata": {
    "collapsed": false,
    "ExecuteTime": {
     "end_time": "2023-11-20T00:11:54.840614Z",
     "start_time": "2023-11-20T00:11:54.002136Z"
    }
   },
   "id": "b7a359e5763bb492"
  },
  {
   "cell_type": "markdown",
   "source": [
    "2022"
   ],
   "metadata": {
    "collapsed": false
   },
   "id": "942e00ded593b976"
  },
  {
   "cell_type": "code",
   "execution_count": 18,
   "outputs": [
    {
     "name": "stdout",
     "output_type": "stream",
     "text": [
      "<class 'pandas.core.frame.DataFrame'>\n",
      "RangeIndex: 4620469 entries, 0 to 4620468\n",
      "Data columns (total 13 columns):\n",
      " #   Column              Dtype  \n",
      "---  ------              -----  \n",
      " 0   Unnamed: 0          int64  \n",
      " 1   trip id             float64\n",
      " 2   trip duration       int64  \n",
      " 3   start station id    int64  \n",
      " 4   Start Time          object \n",
      " 5   Start Station Name  object \n",
      " 6   end station id      float64\n",
      " 7   End Time            object \n",
      " 8   End Station Name    object \n",
      " 9   Bike Id             int64  \n",
      " 10  user type           object \n",
      " 11  Trip Id             float64\n",
      " 12  month               int32  \n",
      "dtypes: float64(3), int32(1), int64(4), object(5)\n",
      "memory usage: 440.6+ MB\n"
     ]
    }
   ],
   "source": [
    "bikeshare_2022 = bikeshare_2022.rename(columns = {'ï»¿Trip Id':'trip id', 'Trip  Duration': 'trip duration','Start Station Id':'start station id','End Station Id':'end station id','User Type':'user type'})\n",
    "bikeshare_2022.info()"
   ],
   "metadata": {
    "collapsed": false,
    "ExecuteTime": {
     "end_time": "2023-11-20T00:15:18.404983Z",
     "start_time": "2023-11-20T00:15:15.743450Z"
    }
   },
   "id": "22c6a3c06bbb7ee6"
  },
  {
   "cell_type": "code",
   "execution_count": 23,
   "outputs": [
    {
     "data": {
      "text/plain": "    month      user type  trip id\n0       1  Annual Member    40470\n1       1  Casual Member    16295\n2       2  Annual Member    46550\n3       2  Casual Member    20460\n4       3  Annual Member    93264\n5       3  Casual Member    58674\n6       4  Annual Member   117480\n7       4  Casual Member   128440\n8       5  Annual Member   159584\n9       5  Casual Member   345342\n10      6  Annual Member   134079\n11      6  Casual Member   471566\n12      7  Annual Member   313280\n13      7  Casual Member   367028\n14      8  Annual Member   291805\n15      8  Casual Member   413345\n16      9  Annual Member   218384\n17      9  Casual Member   384433\n18     10  Annual Member   164553\n19     10  Casual Member   335198\n20     11  Annual Member        0\n21     11  Casual Member        0\n22     12  Annual Member    56296\n23     12  Casual Member   123714",
      "text/html": "<div>\n<style scoped>\n    .dataframe tbody tr th:only-of-type {\n        vertical-align: middle;\n    }\n\n    .dataframe tbody tr th {\n        vertical-align: top;\n    }\n\n    .dataframe thead th {\n        text-align: right;\n    }\n</style>\n<table border=\"1\" class=\"dataframe\">\n  <thead>\n    <tr style=\"text-align: right;\">\n      <th></th>\n      <th>month</th>\n      <th>user type</th>\n      <th>trip id</th>\n    </tr>\n  </thead>\n  <tbody>\n    <tr>\n      <th>0</th>\n      <td>1</td>\n      <td>Annual Member</td>\n      <td>40470</td>\n    </tr>\n    <tr>\n      <th>1</th>\n      <td>1</td>\n      <td>Casual Member</td>\n      <td>16295</td>\n    </tr>\n    <tr>\n      <th>2</th>\n      <td>2</td>\n      <td>Annual Member</td>\n      <td>46550</td>\n    </tr>\n    <tr>\n      <th>3</th>\n      <td>2</td>\n      <td>Casual Member</td>\n      <td>20460</td>\n    </tr>\n    <tr>\n      <th>4</th>\n      <td>3</td>\n      <td>Annual Member</td>\n      <td>93264</td>\n    </tr>\n    <tr>\n      <th>5</th>\n      <td>3</td>\n      <td>Casual Member</td>\n      <td>58674</td>\n    </tr>\n    <tr>\n      <th>6</th>\n      <td>4</td>\n      <td>Annual Member</td>\n      <td>117480</td>\n    </tr>\n    <tr>\n      <th>7</th>\n      <td>4</td>\n      <td>Casual Member</td>\n      <td>128440</td>\n    </tr>\n    <tr>\n      <th>8</th>\n      <td>5</td>\n      <td>Annual Member</td>\n      <td>159584</td>\n    </tr>\n    <tr>\n      <th>9</th>\n      <td>5</td>\n      <td>Casual Member</td>\n      <td>345342</td>\n    </tr>\n    <tr>\n      <th>10</th>\n      <td>6</td>\n      <td>Annual Member</td>\n      <td>134079</td>\n    </tr>\n    <tr>\n      <th>11</th>\n      <td>6</td>\n      <td>Casual Member</td>\n      <td>471566</td>\n    </tr>\n    <tr>\n      <th>12</th>\n      <td>7</td>\n      <td>Annual Member</td>\n      <td>313280</td>\n    </tr>\n    <tr>\n      <th>13</th>\n      <td>7</td>\n      <td>Casual Member</td>\n      <td>367028</td>\n    </tr>\n    <tr>\n      <th>14</th>\n      <td>8</td>\n      <td>Annual Member</td>\n      <td>291805</td>\n    </tr>\n    <tr>\n      <th>15</th>\n      <td>8</td>\n      <td>Casual Member</td>\n      <td>413345</td>\n    </tr>\n    <tr>\n      <th>16</th>\n      <td>9</td>\n      <td>Annual Member</td>\n      <td>218384</td>\n    </tr>\n    <tr>\n      <th>17</th>\n      <td>9</td>\n      <td>Casual Member</td>\n      <td>384433</td>\n    </tr>\n    <tr>\n      <th>18</th>\n      <td>10</td>\n      <td>Annual Member</td>\n      <td>164553</td>\n    </tr>\n    <tr>\n      <th>19</th>\n      <td>10</td>\n      <td>Casual Member</td>\n      <td>335198</td>\n    </tr>\n    <tr>\n      <th>20</th>\n      <td>11</td>\n      <td>Annual Member</td>\n      <td>0</td>\n    </tr>\n    <tr>\n      <th>21</th>\n      <td>11</td>\n      <td>Casual Member</td>\n      <td>0</td>\n    </tr>\n    <tr>\n      <th>22</th>\n      <td>12</td>\n      <td>Annual Member</td>\n      <td>56296</td>\n    </tr>\n    <tr>\n      <th>23</th>\n      <td>12</td>\n      <td>Casual Member</td>\n      <td>123714</td>\n    </tr>\n  </tbody>\n</table>\n</div>"
     },
     "execution_count": 23,
     "metadata": {},
     "output_type": "execute_result"
    }
   ],
   "source": [
    "member_comp_2022 = bikeshare_2022.groupby('user type').agg({'trip id':'count'})\n",
    "\n",
    "bikeshare_2022['month'] = pd.to_datetime(bikeshare_2022['Start Time']).dt.month\n",
    "member_trend_2022 = bikeshare_2022.groupby(['month','user type']).agg({'trip id':'count'}).reset_index()\n",
    "member_trend_2022"
   ],
   "metadata": {
    "collapsed": false,
    "ExecuteTime": {
     "end_time": "2023-11-20T00:17:12.425675Z",
     "start_time": "2023-11-20T00:17:08.204593Z"
    }
   },
   "id": "ab1fe10f44567bda"
  },
  {
   "cell_type": "markdown",
   "source": [
    "2021"
   ],
   "metadata": {
    "collapsed": false
   },
   "id": "57cb704fc0f71aab"
  },
  {
   "cell_type": "code",
   "execution_count": 22,
   "outputs": [
    {
     "name": "stdout",
     "output_type": "stream",
     "text": [
      "<class 'pandas.core.frame.DataFrame'>\n",
      "RangeIndex: 3575182 entries, 0 to 3575181\n",
      "Data columns (total 12 columns):\n",
      " #   Column              Dtype  \n",
      "---  ------              -----  \n",
      " 0   Unnamed: 0          int64  \n",
      " 1   trip id             float64\n",
      " 2   trip duration       int64  \n",
      " 3   start station id    int64  \n",
      " 4   Start Time          object \n",
      " 5   Start Station Name  object \n",
      " 6   end station id      float64\n",
      " 7   End Time            object \n",
      " 8   End Station Name    object \n",
      " 9   Bike Id             float64\n",
      " 10  user type           object \n",
      " 11  trip id             float64\n",
      "dtypes: float64(4), int64(3), object(5)\n",
      "memory usage: 327.3+ MB\n"
     ]
    }
   ],
   "source": [
    "bikeshare_2021 = bikeshare_2021.rename(columns = {'Trip Id':'trip id', 'Trip  Duration': 'trip duration','Start Station Id':'start station id','End Station Id':'end station id','User Type':'user type'})\n",
    "bikeshare_2021.info()"
   ],
   "metadata": {
    "collapsed": false,
    "ExecuteTime": {
     "end_time": "2023-11-20T00:16:39.791927Z",
     "start_time": "2023-11-20T00:16:38.941361Z"
    }
   },
   "id": "cc03b2b099ab02fa"
  },
  {
   "cell_type": "code",
   "execution_count": 27,
   "outputs": [
    {
     "ename": "AttributeError",
     "evalue": "'DataFrame' object has no attribute 'name'",
     "output_type": "error",
     "traceback": [
      "\u001B[0;31m---------------------------------------------------------------------------\u001B[0m",
      "\u001B[0;31mAttributeError\u001B[0m                            Traceback (most recent call last)",
      "\u001B[0;32m/var/folders/5j/22sv3wgn7k7cftl76slzc3900000gn/T/ipykernel_78614/3644171591.py\u001B[0m in \u001B[0;36m?\u001B[0;34m()\u001B[0m\n\u001B[0;32m----> 1\u001B[0;31m \u001B[0mmember_comp_2021\u001B[0m \u001B[0;34m=\u001B[0m \u001B[0mbikeshare_2021\u001B[0m\u001B[0;34m.\u001B[0m\u001B[0mgroupby\u001B[0m\u001B[0;34m(\u001B[0m\u001B[0;34m'user type'\u001B[0m\u001B[0;34m)\u001B[0m\u001B[0;34m.\u001B[0m\u001B[0magg\u001B[0m\u001B[0;34m(\u001B[0m\u001B[0;34m{\u001B[0m\u001B[0;34m'trip id'\u001B[0m\u001B[0;34m:\u001B[0m\u001B[0;34m'count'\u001B[0m\u001B[0;34m}\u001B[0m\u001B[0;34m)\u001B[0m\u001B[0;34m\u001B[0m\u001B[0;34m\u001B[0m\u001B[0m\n\u001B[0m\u001B[1;32m      2\u001B[0m \u001B[0mmember_comp_2021\u001B[0m\u001B[0;34m\u001B[0m\u001B[0;34m\u001B[0m\u001B[0m\n",
      "\u001B[0;32m~/PycharmProjects/pythonProject3/venv/lib/python3.9/site-packages/pandas/core/groupby/generic.py\u001B[0m in \u001B[0;36m?\u001B[0;34m(self, func, engine, engine_kwargs, *args, **kwargs)\u001B[0m\n\u001B[1;32m   1441\u001B[0m             \u001B[0mkwargs\u001B[0m\u001B[0;34m[\u001B[0m\u001B[0;34m\"engine\"\u001B[0m\u001B[0;34m]\u001B[0m \u001B[0;34m=\u001B[0m \u001B[0mengine\u001B[0m\u001B[0;34m\u001B[0m\u001B[0;34m\u001B[0m\u001B[0m\n\u001B[1;32m   1442\u001B[0m             \u001B[0mkwargs\u001B[0m\u001B[0;34m[\u001B[0m\u001B[0;34m\"engine_kwargs\"\u001B[0m\u001B[0;34m]\u001B[0m \u001B[0;34m=\u001B[0m \u001B[0mengine_kwargs\u001B[0m\u001B[0;34m\u001B[0m\u001B[0;34m\u001B[0m\u001B[0m\n\u001B[1;32m   1443\u001B[0m \u001B[0;34m\u001B[0m\u001B[0m\n\u001B[1;32m   1444\u001B[0m         \u001B[0mop\u001B[0m \u001B[0;34m=\u001B[0m \u001B[0mGroupByApply\u001B[0m\u001B[0;34m(\u001B[0m\u001B[0mself\u001B[0m\u001B[0;34m,\u001B[0m \u001B[0mfunc\u001B[0m\u001B[0;34m,\u001B[0m \u001B[0margs\u001B[0m\u001B[0;34m=\u001B[0m\u001B[0margs\u001B[0m\u001B[0;34m,\u001B[0m \u001B[0mkwargs\u001B[0m\u001B[0;34m=\u001B[0m\u001B[0mkwargs\u001B[0m\u001B[0;34m)\u001B[0m\u001B[0;34m\u001B[0m\u001B[0;34m\u001B[0m\u001B[0m\n\u001B[0;32m-> 1445\u001B[0;31m         \u001B[0mresult\u001B[0m \u001B[0;34m=\u001B[0m \u001B[0mop\u001B[0m\u001B[0;34m.\u001B[0m\u001B[0magg\u001B[0m\u001B[0;34m(\u001B[0m\u001B[0;34m)\u001B[0m\u001B[0;34m\u001B[0m\u001B[0;34m\u001B[0m\u001B[0m\n\u001B[0m\u001B[1;32m   1446\u001B[0m         \u001B[0;32mif\u001B[0m \u001B[0;32mnot\u001B[0m \u001B[0mis_dict_like\u001B[0m\u001B[0;34m(\u001B[0m\u001B[0mfunc\u001B[0m\u001B[0;34m)\u001B[0m \u001B[0;32mand\u001B[0m \u001B[0mresult\u001B[0m \u001B[0;32mis\u001B[0m \u001B[0;32mnot\u001B[0m \u001B[0;32mNone\u001B[0m\u001B[0;34m:\u001B[0m\u001B[0;34m\u001B[0m\u001B[0;34m\u001B[0m\u001B[0m\n\u001B[1;32m   1447\u001B[0m             \u001B[0;31m# GH #52849\u001B[0m\u001B[0;34m\u001B[0m\u001B[0;34m\u001B[0m\u001B[0;34m\u001B[0m\u001B[0m\n\u001B[1;32m   1448\u001B[0m             \u001B[0;32mif\u001B[0m \u001B[0;32mnot\u001B[0m \u001B[0mself\u001B[0m\u001B[0;34m.\u001B[0m\u001B[0mas_index\u001B[0m \u001B[0;32mand\u001B[0m \u001B[0mis_list_like\u001B[0m\u001B[0;34m(\u001B[0m\u001B[0mfunc\u001B[0m\u001B[0;34m)\u001B[0m\u001B[0;34m:\u001B[0m\u001B[0;34m\u001B[0m\u001B[0;34m\u001B[0m\u001B[0m\n",
      "\u001B[0;32m~/PycharmProjects/pythonProject3/venv/lib/python3.9/site-packages/pandas/core/apply.py\u001B[0m in \u001B[0;36m?\u001B[0;34m(self)\u001B[0m\n\u001B[1;32m    171\u001B[0m         \u001B[0;32mif\u001B[0m \u001B[0misinstance\u001B[0m\u001B[0;34m(\u001B[0m\u001B[0mfunc\u001B[0m\u001B[0;34m,\u001B[0m \u001B[0mstr\u001B[0m\u001B[0;34m)\u001B[0m\u001B[0;34m:\u001B[0m\u001B[0;34m\u001B[0m\u001B[0;34m\u001B[0m\u001B[0m\n\u001B[1;32m    172\u001B[0m             \u001B[0;32mreturn\u001B[0m \u001B[0mself\u001B[0m\u001B[0;34m.\u001B[0m\u001B[0mapply_str\u001B[0m\u001B[0;34m(\u001B[0m\u001B[0;34m)\u001B[0m\u001B[0;34m\u001B[0m\u001B[0;34m\u001B[0m\u001B[0m\n\u001B[1;32m    173\u001B[0m \u001B[0;34m\u001B[0m\u001B[0m\n\u001B[1;32m    174\u001B[0m         \u001B[0;32mif\u001B[0m \u001B[0mis_dict_like\u001B[0m\u001B[0;34m(\u001B[0m\u001B[0mfunc\u001B[0m\u001B[0;34m)\u001B[0m\u001B[0;34m:\u001B[0m\u001B[0;34m\u001B[0m\u001B[0;34m\u001B[0m\u001B[0m\n\u001B[0;32m--> 175\u001B[0;31m             \u001B[0;32mreturn\u001B[0m \u001B[0mself\u001B[0m\u001B[0;34m.\u001B[0m\u001B[0magg_dict_like\u001B[0m\u001B[0;34m(\u001B[0m\u001B[0;34m)\u001B[0m\u001B[0;34m\u001B[0m\u001B[0;34m\u001B[0m\u001B[0m\n\u001B[0m\u001B[1;32m    176\u001B[0m         \u001B[0;32melif\u001B[0m \u001B[0mis_list_like\u001B[0m\u001B[0;34m(\u001B[0m\u001B[0mfunc\u001B[0m\u001B[0;34m)\u001B[0m\u001B[0;34m:\u001B[0m\u001B[0;34m\u001B[0m\u001B[0;34m\u001B[0m\u001B[0m\n\u001B[1;32m    177\u001B[0m             \u001B[0;31m# we require a list, but not a 'str'\u001B[0m\u001B[0;34m\u001B[0m\u001B[0;34m\u001B[0m\u001B[0;34m\u001B[0m\u001B[0m\n\u001B[1;32m    178\u001B[0m             \u001B[0;32mreturn\u001B[0m \u001B[0mself\u001B[0m\u001B[0;34m.\u001B[0m\u001B[0magg_list_like\u001B[0m\u001B[0;34m(\u001B[0m\u001B[0;34m)\u001B[0m\u001B[0;34m\u001B[0m\u001B[0;34m\u001B[0m\u001B[0m\n",
      "\u001B[0;32m~/PycharmProjects/pythonProject3/venv/lib/python3.9/site-packages/pandas/core/apply.py\u001B[0m in \u001B[0;36m?\u001B[0;34m(self)\u001B[0m\n\u001B[1;32m    402\u001B[0m         \u001B[0mReturns\u001B[0m\u001B[0;34m\u001B[0m\u001B[0;34m\u001B[0m\u001B[0m\n\u001B[1;32m    403\u001B[0m         \u001B[0;34m-\u001B[0m\u001B[0;34m-\u001B[0m\u001B[0;34m-\u001B[0m\u001B[0;34m-\u001B[0m\u001B[0;34m-\u001B[0m\u001B[0;34m-\u001B[0m\u001B[0;34m-\u001B[0m\u001B[0;34m\u001B[0m\u001B[0;34m\u001B[0m\u001B[0m\n\u001B[1;32m    404\u001B[0m         \u001B[0mResult\u001B[0m \u001B[0mof\u001B[0m \u001B[0maggregation\u001B[0m\u001B[0;34m.\u001B[0m\u001B[0;34m\u001B[0m\u001B[0;34m\u001B[0m\u001B[0m\n\u001B[1;32m    405\u001B[0m         \"\"\"\n\u001B[0;32m--> 406\u001B[0;31m         \u001B[0;32mreturn\u001B[0m \u001B[0mself\u001B[0m\u001B[0;34m.\u001B[0m\u001B[0magg_or_apply_dict_like\u001B[0m\u001B[0;34m(\u001B[0m\u001B[0mop_name\u001B[0m\u001B[0;34m=\u001B[0m\u001B[0;34m\"agg\"\u001B[0m\u001B[0;34m)\u001B[0m\u001B[0;34m\u001B[0m\u001B[0;34m\u001B[0m\u001B[0m\n\u001B[0m",
      "\u001B[0;32m~/PycharmProjects/pythonProject3/venv/lib/python3.9/site-packages/pandas/core/apply.py\u001B[0m in \u001B[0;36m?\u001B[0;34m(self, op_name)\u001B[0m\n\u001B[1;32m   1384\u001B[0m \u001B[0;34m\u001B[0m\u001B[0m\n\u001B[1;32m   1385\u001B[0m         with com.temp_setattr(\n\u001B[1;32m   1386\u001B[0m             \u001B[0mobj\u001B[0m\u001B[0;34m,\u001B[0m \u001B[0;34m\"as_index\"\u001B[0m\u001B[0;34m,\u001B[0m \u001B[0;32mTrue\u001B[0m\u001B[0;34m,\u001B[0m \u001B[0mcondition\u001B[0m\u001B[0;34m=\u001B[0m\u001B[0mhasattr\u001B[0m\u001B[0;34m(\u001B[0m\u001B[0mobj\u001B[0m\u001B[0;34m,\u001B[0m \u001B[0;34m\"as_index\"\u001B[0m\u001B[0;34m)\u001B[0m\u001B[0;34m\u001B[0m\u001B[0;34m\u001B[0m\u001B[0m\n\u001B[1;32m   1387\u001B[0m         ):\n\u001B[0;32m-> 1388\u001B[0;31m             result_index, result_data = self.compute_dict_like(\n\u001B[0m\u001B[1;32m   1389\u001B[0m                 \u001B[0mop_name\u001B[0m\u001B[0;34m,\u001B[0m \u001B[0mselected_obj\u001B[0m\u001B[0;34m,\u001B[0m \u001B[0mselection\u001B[0m\u001B[0;34m,\u001B[0m \u001B[0mkwargs\u001B[0m\u001B[0;34m\u001B[0m\u001B[0;34m\u001B[0m\u001B[0m\n\u001B[1;32m   1390\u001B[0m             )\n\u001B[1;32m   1391\u001B[0m         \u001B[0mresult\u001B[0m \u001B[0;34m=\u001B[0m \u001B[0mself\u001B[0m\u001B[0;34m.\u001B[0m\u001B[0mwrap_results_dict_like\u001B[0m\u001B[0;34m(\u001B[0m\u001B[0mselected_obj\u001B[0m\u001B[0;34m,\u001B[0m \u001B[0mresult_index\u001B[0m\u001B[0;34m,\u001B[0m \u001B[0mresult_data\u001B[0m\u001B[0;34m)\u001B[0m\u001B[0;34m\u001B[0m\u001B[0;34m\u001B[0m\u001B[0m\n",
      "\u001B[0;32m~/PycharmProjects/pythonProject3/venv/lib/python3.9/site-packages/pandas/core/apply.py\u001B[0m in \u001B[0;36m?\u001B[0;34m(self, op_name, selected_obj, selection, kwargs)\u001B[0m\n\u001B[1;32m    475\u001B[0m                 \u001B[0mkeys\u001B[0m \u001B[0;34m+=\u001B[0m \u001B[0;34m[\u001B[0m\u001B[0mkey\u001B[0m\u001B[0;34m]\u001B[0m \u001B[0;34m*\u001B[0m \u001B[0mlen\u001B[0m\u001B[0;34m(\u001B[0m\u001B[0mkey_data\u001B[0m\u001B[0;34m)\u001B[0m\u001B[0;34m\u001B[0m\u001B[0;34m\u001B[0m\u001B[0m\n\u001B[1;32m    476\u001B[0m                 \u001B[0mresults\u001B[0m \u001B[0;34m+=\u001B[0m \u001B[0mkey_data\u001B[0m\u001B[0;34m\u001B[0m\u001B[0;34m\u001B[0m\u001B[0m\n\u001B[1;32m    477\u001B[0m         \u001B[0;32melse\u001B[0m\u001B[0;34m:\u001B[0m\u001B[0;34m\u001B[0m\u001B[0;34m\u001B[0m\u001B[0m\n\u001B[1;32m    478\u001B[0m             \u001B[0;31m# key used for column selection and output\u001B[0m\u001B[0;34m\u001B[0m\u001B[0;34m\u001B[0m\u001B[0;34m\u001B[0m\u001B[0m\n\u001B[0;32m--> 479\u001B[0;31m             results = [\n\u001B[0m\u001B[1;32m    480\u001B[0m                 \u001B[0mgetattr\u001B[0m\u001B[0;34m(\u001B[0m\u001B[0mobj\u001B[0m\u001B[0;34m.\u001B[0m\u001B[0m_gotitem\u001B[0m\u001B[0;34m(\u001B[0m\u001B[0mkey\u001B[0m\u001B[0;34m,\u001B[0m \u001B[0mndim\u001B[0m\u001B[0;34m=\u001B[0m\u001B[0;36m1\u001B[0m\u001B[0;34m)\u001B[0m\u001B[0;34m,\u001B[0m \u001B[0mop_name\u001B[0m\u001B[0;34m)\u001B[0m\u001B[0;34m(\u001B[0m\u001B[0mhow\u001B[0m\u001B[0;34m,\u001B[0m \u001B[0;34m**\u001B[0m\u001B[0mkwargs\u001B[0m\u001B[0;34m)\u001B[0m\u001B[0;34m\u001B[0m\u001B[0;34m\u001B[0m\u001B[0m\n\u001B[1;32m    481\u001B[0m                 \u001B[0;32mfor\u001B[0m \u001B[0mkey\u001B[0m\u001B[0;34m,\u001B[0m \u001B[0mhow\u001B[0m \u001B[0;32min\u001B[0m \u001B[0mfunc\u001B[0m\u001B[0;34m.\u001B[0m\u001B[0mitems\u001B[0m\u001B[0;34m(\u001B[0m\u001B[0;34m)\u001B[0m\u001B[0;34m\u001B[0m\u001B[0;34m\u001B[0m\u001B[0m\n\u001B[1;32m    482\u001B[0m             ]\n",
      "\u001B[0;32m~/PycharmProjects/pythonProject3/venv/lib/python3.9/site-packages/pandas/core/apply.py\u001B[0m in \u001B[0;36m?\u001B[0;34m(.0)\u001B[0m\n\u001B[1;32m    479\u001B[0m     def compute_dict_like(\n\u001B[0;32m--> 480\u001B[0;31m         \u001B[0mself\u001B[0m\u001B[0;34m,\u001B[0m\u001B[0;34m\u001B[0m\u001B[0;34m\u001B[0m\u001B[0m\n\u001B[0m\u001B[1;32m    481\u001B[0m         \u001B[0mop_name\u001B[0m\u001B[0;34m:\u001B[0m \u001B[0mLiteral\u001B[0m\u001B[0;34m[\u001B[0m\u001B[0;34m\"agg\"\u001B[0m\u001B[0;34m,\u001B[0m \u001B[0;34m\"apply\"\u001B[0m\u001B[0;34m]\u001B[0m\u001B[0;34m,\u001B[0m\u001B[0;34m\u001B[0m\u001B[0;34m\u001B[0m\u001B[0m\n\u001B[1;32m    482\u001B[0m         \u001B[0mselected_obj\u001B[0m\u001B[0;34m:\u001B[0m \u001B[0mSeries\u001B[0m \u001B[0;34m|\u001B[0m \u001B[0mDataFrame\u001B[0m\u001B[0;34m,\u001B[0m\u001B[0;34m\u001B[0m\u001B[0;34m\u001B[0m\u001B[0m\n\u001B[1;32m    483\u001B[0m         \u001B[0mselection\u001B[0m\u001B[0;34m:\u001B[0m \u001B[0mHashable\u001B[0m \u001B[0;34m|\u001B[0m \u001B[0mSequence\u001B[0m\u001B[0;34m[\u001B[0m\u001B[0mHashable\u001B[0m\u001B[0;34m]\u001B[0m\u001B[0;34m,\u001B[0m\u001B[0;34m\u001B[0m\u001B[0;34m\u001B[0m\u001B[0m\n",
      "\u001B[0;32m~/PycharmProjects/pythonProject3/venv/lib/python3.9/site-packages/pandas/core/groupby/generic.py\u001B[0m in \u001B[0;36m?\u001B[0;34m(self, func, engine, engine_kwargs, *args, **kwargs)\u001B[0m\n\u001B[1;32m    243\u001B[0m                 \u001B[0;31m# numba is requested via the global option)\u001B[0m\u001B[0;34m\u001B[0m\u001B[0;34m\u001B[0m\u001B[0;34m\u001B[0m\u001B[0m\n\u001B[1;32m    244\u001B[0m                 \u001B[0mkwargs\u001B[0m\u001B[0;34m[\u001B[0m\u001B[0;34m\"engine\"\u001B[0m\u001B[0;34m]\u001B[0m \u001B[0;34m=\u001B[0m \u001B[0mengine\u001B[0m\u001B[0;34m\u001B[0m\u001B[0;34m\u001B[0m\u001B[0m\n\u001B[1;32m    245\u001B[0m             \u001B[0;32mif\u001B[0m \u001B[0mengine_kwargs\u001B[0m \u001B[0;32mis\u001B[0m \u001B[0;32mnot\u001B[0m \u001B[0;32mNone\u001B[0m\u001B[0;34m:\u001B[0m\u001B[0;34m\u001B[0m\u001B[0;34m\u001B[0m\u001B[0m\n\u001B[1;32m    246\u001B[0m                 \u001B[0mkwargs\u001B[0m\u001B[0;34m[\u001B[0m\u001B[0;34m\"engine_kwargs\"\u001B[0m\u001B[0;34m]\u001B[0m \u001B[0;34m=\u001B[0m \u001B[0mengine_kwargs\u001B[0m\u001B[0;34m\u001B[0m\u001B[0;34m\u001B[0m\u001B[0m\n\u001B[0;32m--> 247\u001B[0;31m             \u001B[0;32mreturn\u001B[0m \u001B[0mgetattr\u001B[0m\u001B[0;34m(\u001B[0m\u001B[0mself\u001B[0m\u001B[0;34m,\u001B[0m \u001B[0mfunc\u001B[0m\u001B[0;34m)\u001B[0m\u001B[0;34m(\u001B[0m\u001B[0;34m*\u001B[0m\u001B[0margs\u001B[0m\u001B[0;34m,\u001B[0m \u001B[0;34m**\u001B[0m\u001B[0mkwargs\u001B[0m\u001B[0;34m)\u001B[0m\u001B[0;34m\u001B[0m\u001B[0;34m\u001B[0m\u001B[0m\n\u001B[0m\u001B[1;32m    248\u001B[0m \u001B[0;34m\u001B[0m\u001B[0m\n\u001B[1;32m    249\u001B[0m         \u001B[0;32melif\u001B[0m \u001B[0misinstance\u001B[0m\u001B[0;34m(\u001B[0m\u001B[0mfunc\u001B[0m\u001B[0;34m,\u001B[0m \u001B[0mabc\u001B[0m\u001B[0;34m.\u001B[0m\u001B[0mIterable\u001B[0m\u001B[0;34m)\u001B[0m\u001B[0;34m:\u001B[0m\u001B[0;34m\u001B[0m\u001B[0;34m\u001B[0m\u001B[0m\n\u001B[1;32m    250\u001B[0m             \u001B[0;31m# Catch instances of lists / tuples\u001B[0m\u001B[0;34m\u001B[0m\u001B[0;34m\u001B[0m\u001B[0;34m\u001B[0m\u001B[0m\n",
      "\u001B[0;32m~/PycharmProjects/pythonProject3/venv/lib/python3.9/site-packages/pandas/core/groupby/groupby.py\u001B[0m in \u001B[0;36m?\u001B[0;34m(self)\u001B[0m\n\u001B[1;32m   2276\u001B[0m                 \u001B[0;32mreturn\u001B[0m \u001B[0mcounted\u001B[0m\u001B[0;34m[\u001B[0m\u001B[0;36m0\u001B[0m\u001B[0;34m]\u001B[0m\u001B[0;34m\u001B[0m\u001B[0;34m\u001B[0m\u001B[0m\n\u001B[1;32m   2277\u001B[0m             \u001B[0;32mreturn\u001B[0m \u001B[0mcounted\u001B[0m\u001B[0;34m\u001B[0m\u001B[0;34m\u001B[0m\u001B[0m\n\u001B[1;32m   2278\u001B[0m \u001B[0;34m\u001B[0m\u001B[0m\n\u001B[1;32m   2279\u001B[0m         \u001B[0mnew_mgr\u001B[0m \u001B[0;34m=\u001B[0m \u001B[0mdata\u001B[0m\u001B[0;34m.\u001B[0m\u001B[0mgrouped_reduce\u001B[0m\u001B[0;34m(\u001B[0m\u001B[0mhfunc\u001B[0m\u001B[0;34m)\u001B[0m\u001B[0;34m\u001B[0m\u001B[0;34m\u001B[0m\u001B[0m\n\u001B[0;32m-> 2280\u001B[0;31m         \u001B[0mnew_obj\u001B[0m \u001B[0;34m=\u001B[0m \u001B[0mself\u001B[0m\u001B[0;34m.\u001B[0m\u001B[0m_wrap_agged_manager\u001B[0m\u001B[0;34m(\u001B[0m\u001B[0mnew_mgr\u001B[0m\u001B[0;34m)\u001B[0m\u001B[0;34m\u001B[0m\u001B[0;34m\u001B[0m\u001B[0m\n\u001B[0m\u001B[1;32m   2281\u001B[0m \u001B[0;34m\u001B[0m\u001B[0m\n\u001B[1;32m   2282\u001B[0m         \u001B[0;31m# If we are grouping on categoricals we want unobserved categories to\u001B[0m\u001B[0;34m\u001B[0m\u001B[0;34m\u001B[0m\u001B[0;34m\u001B[0m\u001B[0m\n\u001B[1;32m   2283\u001B[0m         \u001B[0;31m# return zero, rather than the default of NaN which the reindexing in\u001B[0m\u001B[0;34m\u001B[0m\u001B[0;34m\u001B[0m\u001B[0;34m\u001B[0m\u001B[0m\n",
      "\u001B[0;32m~/PycharmProjects/pythonProject3/venv/lib/python3.9/site-packages/pandas/core/groupby/generic.py\u001B[0m in \u001B[0;36m?\u001B[0;34m(self, mgr)\u001B[0m\n\u001B[1;32m    153\u001B[0m     \u001B[0;32mdef\u001B[0m \u001B[0m_wrap_agged_manager\u001B[0m\u001B[0;34m(\u001B[0m\u001B[0mself\u001B[0m\u001B[0;34m,\u001B[0m \u001B[0mmgr\u001B[0m\u001B[0;34m:\u001B[0m \u001B[0mManager\u001B[0m\u001B[0;34m)\u001B[0m \u001B[0;34m->\u001B[0m \u001B[0mSeries\u001B[0m\u001B[0;34m:\u001B[0m\u001B[0;34m\u001B[0m\u001B[0;34m\u001B[0m\u001B[0m\n\u001B[1;32m    154\u001B[0m         \u001B[0mout\u001B[0m \u001B[0;34m=\u001B[0m \u001B[0mself\u001B[0m\u001B[0;34m.\u001B[0m\u001B[0mobj\u001B[0m\u001B[0;34m.\u001B[0m\u001B[0m_constructor_from_mgr\u001B[0m\u001B[0;34m(\u001B[0m\u001B[0mmgr\u001B[0m\u001B[0;34m,\u001B[0m \u001B[0maxes\u001B[0m\u001B[0;34m=\u001B[0m\u001B[0mmgr\u001B[0m\u001B[0;34m.\u001B[0m\u001B[0maxes\u001B[0m\u001B[0;34m)\u001B[0m\u001B[0;34m\u001B[0m\u001B[0;34m\u001B[0m\u001B[0m\n\u001B[0;32m--> 155\u001B[0;31m         \u001B[0mout\u001B[0m\u001B[0;34m.\u001B[0m\u001B[0m_name\u001B[0m \u001B[0;34m=\u001B[0m \u001B[0mself\u001B[0m\u001B[0;34m.\u001B[0m\u001B[0mobj\u001B[0m\u001B[0;34m.\u001B[0m\u001B[0mname\u001B[0m\u001B[0;34m\u001B[0m\u001B[0;34m\u001B[0m\u001B[0m\n\u001B[0m\u001B[1;32m    156\u001B[0m         \u001B[0;32mreturn\u001B[0m \u001B[0mout\u001B[0m\u001B[0;34m\u001B[0m\u001B[0;34m\u001B[0m\u001B[0m\n",
      "\u001B[0;32m~/PycharmProjects/pythonProject3/venv/lib/python3.9/site-packages/pandas/core/generic.py\u001B[0m in \u001B[0;36m?\u001B[0;34m(self, name)\u001B[0m\n\u001B[1;32m   6200\u001B[0m             \u001B[0;32mand\u001B[0m \u001B[0mname\u001B[0m \u001B[0;32mnot\u001B[0m \u001B[0;32min\u001B[0m \u001B[0mself\u001B[0m\u001B[0;34m.\u001B[0m\u001B[0m_accessors\u001B[0m\u001B[0;34m\u001B[0m\u001B[0;34m\u001B[0m\u001B[0m\n\u001B[1;32m   6201\u001B[0m             \u001B[0;32mand\u001B[0m \u001B[0mself\u001B[0m\u001B[0;34m.\u001B[0m\u001B[0m_info_axis\u001B[0m\u001B[0;34m.\u001B[0m\u001B[0m_can_hold_identifiers_and_holds_name\u001B[0m\u001B[0;34m(\u001B[0m\u001B[0mname\u001B[0m\u001B[0;34m)\u001B[0m\u001B[0;34m\u001B[0m\u001B[0;34m\u001B[0m\u001B[0m\n\u001B[1;32m   6202\u001B[0m         ):\n\u001B[1;32m   6203\u001B[0m             \u001B[0;32mreturn\u001B[0m \u001B[0mself\u001B[0m\u001B[0;34m[\u001B[0m\u001B[0mname\u001B[0m\u001B[0;34m]\u001B[0m\u001B[0;34m\u001B[0m\u001B[0;34m\u001B[0m\u001B[0m\n\u001B[0;32m-> 6204\u001B[0;31m         \u001B[0;32mreturn\u001B[0m \u001B[0mobject\u001B[0m\u001B[0;34m.\u001B[0m\u001B[0m__getattribute__\u001B[0m\u001B[0;34m(\u001B[0m\u001B[0mself\u001B[0m\u001B[0;34m,\u001B[0m \u001B[0mname\u001B[0m\u001B[0;34m)\u001B[0m\u001B[0;34m\u001B[0m\u001B[0;34m\u001B[0m\u001B[0m\n\u001B[0m",
      "\u001B[0;31mAttributeError\u001B[0m: 'DataFrame' object has no attribute 'name'"
     ]
    }
   ],
   "source": [
    "member_comp_2021 = bikeshare_2021.groupby('user type').agg({'trip id':'count'})\n",
    "member_comp_2021"
   ],
   "metadata": {
    "collapsed": false,
    "ExecuteTime": {
     "end_time": "2023-11-20T00:19:00.917421Z",
     "start_time": "2023-11-20T00:19:00.145462Z"
    }
   },
   "id": "9368c0cc8f2cef35"
  },
  {
   "cell_type": "code",
   "execution_count": 28,
   "outputs": [
    {
     "ename": "AttributeError",
     "evalue": "'DataFrame' object has no attribute 'name'",
     "output_type": "error",
     "traceback": [
      "\u001B[0;31m---------------------------------------------------------------------------\u001B[0m",
      "\u001B[0;31mAttributeError\u001B[0m                            Traceback (most recent call last)",
      "\u001B[0;32m/var/folders/5j/22sv3wgn7k7cftl76slzc3900000gn/T/ipykernel_78614/1903874584.py\u001B[0m in \u001B[0;36m?\u001B[0;34m()\u001B[0m\n\u001B[0;32m----> 2\u001B[0;31m \u001B[0mbikeshare_2021\u001B[0m\u001B[0;34m[\u001B[0m\u001B[0;34m'month'\u001B[0m\u001B[0;34m]\u001B[0m \u001B[0;34m=\u001B[0m \u001B[0mpd\u001B[0m\u001B[0;34m.\u001B[0m\u001B[0mto_datetime\u001B[0m\u001B[0;34m(\u001B[0m\u001B[0mbikeshare_2021\u001B[0m\u001B[0;34m[\u001B[0m\u001B[0;34m'Start Time'\u001B[0m\u001B[0;34m]\u001B[0m\u001B[0;34m)\u001B[0m\u001B[0;34m.\u001B[0m\u001B[0mdt\u001B[0m\u001B[0;34m.\u001B[0m\u001B[0mmonth\u001B[0m\u001B[0;34m\u001B[0m\u001B[0;34m\u001B[0m\u001B[0m\n\u001B[0m\u001B[1;32m      3\u001B[0m \u001B[0mmember_trend_2021\u001B[0m \u001B[0;34m=\u001B[0m \u001B[0mbikeshare_2021\u001B[0m\u001B[0;34m.\u001B[0m\u001B[0mgroupby\u001B[0m\u001B[0;34m(\u001B[0m\u001B[0;34m[\u001B[0m\u001B[0;34m'month'\u001B[0m\u001B[0;34m,\u001B[0m\u001B[0;34m'user type'\u001B[0m\u001B[0;34m]\u001B[0m\u001B[0;34m)\u001B[0m\u001B[0;34m.\u001B[0m\u001B[0magg\u001B[0m\u001B[0;34m(\u001B[0m\u001B[0;34m{\u001B[0m\u001B[0;34m'trip id'\u001B[0m\u001B[0;34m:\u001B[0m\u001B[0;34m'count'\u001B[0m\u001B[0;34m}\u001B[0m\u001B[0;34m)\u001B[0m\u001B[0;34m.\u001B[0m\u001B[0mreset_index\u001B[0m\u001B[0;34m(\u001B[0m\u001B[0;34m)\u001B[0m\u001B[0;34m\u001B[0m\u001B[0;34m\u001B[0m\u001B[0m\n\u001B[1;32m      4\u001B[0m \u001B[0mmember_trend_2021\u001B[0m\u001B[0;34m\u001B[0m\u001B[0;34m\u001B[0m\u001B[0m\n",
      "\u001B[0;32m~/PycharmProjects/pythonProject3/venv/lib/python3.9/site-packages/pandas/core/groupby/generic.py\u001B[0m in \u001B[0;36m?\u001B[0;34m(self, func, engine, engine_kwargs, *args, **kwargs)\u001B[0m\n\u001B[1;32m   1441\u001B[0m             \u001B[0mkwargs\u001B[0m\u001B[0;34m[\u001B[0m\u001B[0;34m\"engine\"\u001B[0m\u001B[0;34m]\u001B[0m \u001B[0;34m=\u001B[0m \u001B[0mengine\u001B[0m\u001B[0;34m\u001B[0m\u001B[0;34m\u001B[0m\u001B[0m\n\u001B[1;32m   1442\u001B[0m             \u001B[0mkwargs\u001B[0m\u001B[0;34m[\u001B[0m\u001B[0;34m\"engine_kwargs\"\u001B[0m\u001B[0;34m]\u001B[0m \u001B[0;34m=\u001B[0m \u001B[0mengine_kwargs\u001B[0m\u001B[0;34m\u001B[0m\u001B[0;34m\u001B[0m\u001B[0m\n\u001B[1;32m   1443\u001B[0m \u001B[0;34m\u001B[0m\u001B[0m\n\u001B[1;32m   1444\u001B[0m         \u001B[0mop\u001B[0m \u001B[0;34m=\u001B[0m \u001B[0mGroupByApply\u001B[0m\u001B[0;34m(\u001B[0m\u001B[0mself\u001B[0m\u001B[0;34m,\u001B[0m \u001B[0mfunc\u001B[0m\u001B[0;34m,\u001B[0m \u001B[0margs\u001B[0m\u001B[0;34m=\u001B[0m\u001B[0margs\u001B[0m\u001B[0;34m,\u001B[0m \u001B[0mkwargs\u001B[0m\u001B[0;34m=\u001B[0m\u001B[0mkwargs\u001B[0m\u001B[0;34m)\u001B[0m\u001B[0;34m\u001B[0m\u001B[0;34m\u001B[0m\u001B[0m\n\u001B[0;32m-> 1445\u001B[0;31m         \u001B[0mresult\u001B[0m \u001B[0;34m=\u001B[0m \u001B[0mop\u001B[0m\u001B[0;34m.\u001B[0m\u001B[0magg\u001B[0m\u001B[0;34m(\u001B[0m\u001B[0;34m)\u001B[0m\u001B[0;34m\u001B[0m\u001B[0;34m\u001B[0m\u001B[0m\n\u001B[0m\u001B[1;32m   1446\u001B[0m         \u001B[0;32mif\u001B[0m \u001B[0;32mnot\u001B[0m \u001B[0mis_dict_like\u001B[0m\u001B[0;34m(\u001B[0m\u001B[0mfunc\u001B[0m\u001B[0;34m)\u001B[0m \u001B[0;32mand\u001B[0m \u001B[0mresult\u001B[0m \u001B[0;32mis\u001B[0m \u001B[0;32mnot\u001B[0m \u001B[0;32mNone\u001B[0m\u001B[0;34m:\u001B[0m\u001B[0;34m\u001B[0m\u001B[0;34m\u001B[0m\u001B[0m\n\u001B[1;32m   1447\u001B[0m             \u001B[0;31m# GH #52849\u001B[0m\u001B[0;34m\u001B[0m\u001B[0;34m\u001B[0m\u001B[0;34m\u001B[0m\u001B[0m\n\u001B[1;32m   1448\u001B[0m             \u001B[0;32mif\u001B[0m \u001B[0;32mnot\u001B[0m \u001B[0mself\u001B[0m\u001B[0;34m.\u001B[0m\u001B[0mas_index\u001B[0m \u001B[0;32mand\u001B[0m \u001B[0mis_list_like\u001B[0m\u001B[0;34m(\u001B[0m\u001B[0mfunc\u001B[0m\u001B[0;34m)\u001B[0m\u001B[0;34m:\u001B[0m\u001B[0;34m\u001B[0m\u001B[0;34m\u001B[0m\u001B[0m\n",
      "\u001B[0;32m~/PycharmProjects/pythonProject3/venv/lib/python3.9/site-packages/pandas/core/apply.py\u001B[0m in \u001B[0;36m?\u001B[0;34m(self)\u001B[0m\n\u001B[1;32m    171\u001B[0m         \u001B[0;32mif\u001B[0m \u001B[0misinstance\u001B[0m\u001B[0;34m(\u001B[0m\u001B[0mfunc\u001B[0m\u001B[0;34m,\u001B[0m \u001B[0mstr\u001B[0m\u001B[0;34m)\u001B[0m\u001B[0;34m:\u001B[0m\u001B[0;34m\u001B[0m\u001B[0;34m\u001B[0m\u001B[0m\n\u001B[1;32m    172\u001B[0m             \u001B[0;32mreturn\u001B[0m \u001B[0mself\u001B[0m\u001B[0;34m.\u001B[0m\u001B[0mapply_str\u001B[0m\u001B[0;34m(\u001B[0m\u001B[0;34m)\u001B[0m\u001B[0;34m\u001B[0m\u001B[0;34m\u001B[0m\u001B[0m\n\u001B[1;32m    173\u001B[0m \u001B[0;34m\u001B[0m\u001B[0m\n\u001B[1;32m    174\u001B[0m         \u001B[0;32mif\u001B[0m \u001B[0mis_dict_like\u001B[0m\u001B[0;34m(\u001B[0m\u001B[0mfunc\u001B[0m\u001B[0;34m)\u001B[0m\u001B[0;34m:\u001B[0m\u001B[0;34m\u001B[0m\u001B[0;34m\u001B[0m\u001B[0m\n\u001B[0;32m--> 175\u001B[0;31m             \u001B[0;32mreturn\u001B[0m \u001B[0mself\u001B[0m\u001B[0;34m.\u001B[0m\u001B[0magg_dict_like\u001B[0m\u001B[0;34m(\u001B[0m\u001B[0;34m)\u001B[0m\u001B[0;34m\u001B[0m\u001B[0;34m\u001B[0m\u001B[0m\n\u001B[0m\u001B[1;32m    176\u001B[0m         \u001B[0;32melif\u001B[0m \u001B[0mis_list_like\u001B[0m\u001B[0;34m(\u001B[0m\u001B[0mfunc\u001B[0m\u001B[0;34m)\u001B[0m\u001B[0;34m:\u001B[0m\u001B[0;34m\u001B[0m\u001B[0;34m\u001B[0m\u001B[0m\n\u001B[1;32m    177\u001B[0m             \u001B[0;31m# we require a list, but not a 'str'\u001B[0m\u001B[0;34m\u001B[0m\u001B[0;34m\u001B[0m\u001B[0;34m\u001B[0m\u001B[0m\n\u001B[1;32m    178\u001B[0m             \u001B[0;32mreturn\u001B[0m \u001B[0mself\u001B[0m\u001B[0;34m.\u001B[0m\u001B[0magg_list_like\u001B[0m\u001B[0;34m(\u001B[0m\u001B[0;34m)\u001B[0m\u001B[0;34m\u001B[0m\u001B[0;34m\u001B[0m\u001B[0m\n",
      "\u001B[0;32m~/PycharmProjects/pythonProject3/venv/lib/python3.9/site-packages/pandas/core/apply.py\u001B[0m in \u001B[0;36m?\u001B[0;34m(self)\u001B[0m\n\u001B[1;32m    402\u001B[0m         \u001B[0mReturns\u001B[0m\u001B[0;34m\u001B[0m\u001B[0;34m\u001B[0m\u001B[0m\n\u001B[1;32m    403\u001B[0m         \u001B[0;34m-\u001B[0m\u001B[0;34m-\u001B[0m\u001B[0;34m-\u001B[0m\u001B[0;34m-\u001B[0m\u001B[0;34m-\u001B[0m\u001B[0;34m-\u001B[0m\u001B[0;34m-\u001B[0m\u001B[0;34m\u001B[0m\u001B[0;34m\u001B[0m\u001B[0m\n\u001B[1;32m    404\u001B[0m         \u001B[0mResult\u001B[0m \u001B[0mof\u001B[0m \u001B[0maggregation\u001B[0m\u001B[0;34m.\u001B[0m\u001B[0;34m\u001B[0m\u001B[0;34m\u001B[0m\u001B[0m\n\u001B[1;32m    405\u001B[0m         \"\"\"\n\u001B[0;32m--> 406\u001B[0;31m         \u001B[0;32mreturn\u001B[0m \u001B[0mself\u001B[0m\u001B[0;34m.\u001B[0m\u001B[0magg_or_apply_dict_like\u001B[0m\u001B[0;34m(\u001B[0m\u001B[0mop_name\u001B[0m\u001B[0;34m=\u001B[0m\u001B[0;34m\"agg\"\u001B[0m\u001B[0;34m)\u001B[0m\u001B[0;34m\u001B[0m\u001B[0;34m\u001B[0m\u001B[0m\n\u001B[0m",
      "\u001B[0;32m~/PycharmProjects/pythonProject3/venv/lib/python3.9/site-packages/pandas/core/apply.py\u001B[0m in \u001B[0;36m?\u001B[0;34m(self, op_name)\u001B[0m\n\u001B[1;32m   1384\u001B[0m \u001B[0;34m\u001B[0m\u001B[0m\n\u001B[1;32m   1385\u001B[0m         with com.temp_setattr(\n\u001B[1;32m   1386\u001B[0m             \u001B[0mobj\u001B[0m\u001B[0;34m,\u001B[0m \u001B[0;34m\"as_index\"\u001B[0m\u001B[0;34m,\u001B[0m \u001B[0;32mTrue\u001B[0m\u001B[0;34m,\u001B[0m \u001B[0mcondition\u001B[0m\u001B[0;34m=\u001B[0m\u001B[0mhasattr\u001B[0m\u001B[0;34m(\u001B[0m\u001B[0mobj\u001B[0m\u001B[0;34m,\u001B[0m \u001B[0;34m\"as_index\"\u001B[0m\u001B[0;34m)\u001B[0m\u001B[0;34m\u001B[0m\u001B[0;34m\u001B[0m\u001B[0m\n\u001B[1;32m   1387\u001B[0m         ):\n\u001B[0;32m-> 1388\u001B[0;31m             result_index, result_data = self.compute_dict_like(\n\u001B[0m\u001B[1;32m   1389\u001B[0m                 \u001B[0mop_name\u001B[0m\u001B[0;34m,\u001B[0m \u001B[0mselected_obj\u001B[0m\u001B[0;34m,\u001B[0m \u001B[0mselection\u001B[0m\u001B[0;34m,\u001B[0m \u001B[0mkwargs\u001B[0m\u001B[0;34m\u001B[0m\u001B[0;34m\u001B[0m\u001B[0m\n\u001B[1;32m   1390\u001B[0m             )\n\u001B[1;32m   1391\u001B[0m         \u001B[0mresult\u001B[0m \u001B[0;34m=\u001B[0m \u001B[0mself\u001B[0m\u001B[0;34m.\u001B[0m\u001B[0mwrap_results_dict_like\u001B[0m\u001B[0;34m(\u001B[0m\u001B[0mselected_obj\u001B[0m\u001B[0;34m,\u001B[0m \u001B[0mresult_index\u001B[0m\u001B[0;34m,\u001B[0m \u001B[0mresult_data\u001B[0m\u001B[0;34m)\u001B[0m\u001B[0;34m\u001B[0m\u001B[0;34m\u001B[0m\u001B[0m\n",
      "\u001B[0;32m~/PycharmProjects/pythonProject3/venv/lib/python3.9/site-packages/pandas/core/apply.py\u001B[0m in \u001B[0;36m?\u001B[0;34m(self, op_name, selected_obj, selection, kwargs)\u001B[0m\n\u001B[1;32m    475\u001B[0m                 \u001B[0mkeys\u001B[0m \u001B[0;34m+=\u001B[0m \u001B[0;34m[\u001B[0m\u001B[0mkey\u001B[0m\u001B[0;34m]\u001B[0m \u001B[0;34m*\u001B[0m \u001B[0mlen\u001B[0m\u001B[0;34m(\u001B[0m\u001B[0mkey_data\u001B[0m\u001B[0;34m)\u001B[0m\u001B[0;34m\u001B[0m\u001B[0;34m\u001B[0m\u001B[0m\n\u001B[1;32m    476\u001B[0m                 \u001B[0mresults\u001B[0m \u001B[0;34m+=\u001B[0m \u001B[0mkey_data\u001B[0m\u001B[0;34m\u001B[0m\u001B[0;34m\u001B[0m\u001B[0m\n\u001B[1;32m    477\u001B[0m         \u001B[0;32melse\u001B[0m\u001B[0;34m:\u001B[0m\u001B[0;34m\u001B[0m\u001B[0;34m\u001B[0m\u001B[0m\n\u001B[1;32m    478\u001B[0m             \u001B[0;31m# key used for column selection and output\u001B[0m\u001B[0;34m\u001B[0m\u001B[0;34m\u001B[0m\u001B[0;34m\u001B[0m\u001B[0m\n\u001B[0;32m--> 479\u001B[0;31m             results = [\n\u001B[0m\u001B[1;32m    480\u001B[0m                 \u001B[0mgetattr\u001B[0m\u001B[0;34m(\u001B[0m\u001B[0mobj\u001B[0m\u001B[0;34m.\u001B[0m\u001B[0m_gotitem\u001B[0m\u001B[0;34m(\u001B[0m\u001B[0mkey\u001B[0m\u001B[0;34m,\u001B[0m \u001B[0mndim\u001B[0m\u001B[0;34m=\u001B[0m\u001B[0;36m1\u001B[0m\u001B[0;34m)\u001B[0m\u001B[0;34m,\u001B[0m \u001B[0mop_name\u001B[0m\u001B[0;34m)\u001B[0m\u001B[0;34m(\u001B[0m\u001B[0mhow\u001B[0m\u001B[0;34m,\u001B[0m \u001B[0;34m**\u001B[0m\u001B[0mkwargs\u001B[0m\u001B[0;34m)\u001B[0m\u001B[0;34m\u001B[0m\u001B[0;34m\u001B[0m\u001B[0m\n\u001B[1;32m    481\u001B[0m                 \u001B[0;32mfor\u001B[0m \u001B[0mkey\u001B[0m\u001B[0;34m,\u001B[0m \u001B[0mhow\u001B[0m \u001B[0;32min\u001B[0m \u001B[0mfunc\u001B[0m\u001B[0;34m.\u001B[0m\u001B[0mitems\u001B[0m\u001B[0;34m(\u001B[0m\u001B[0;34m)\u001B[0m\u001B[0;34m\u001B[0m\u001B[0;34m\u001B[0m\u001B[0m\n\u001B[1;32m    482\u001B[0m             ]\n",
      "\u001B[0;32m~/PycharmProjects/pythonProject3/venv/lib/python3.9/site-packages/pandas/core/apply.py\u001B[0m in \u001B[0;36m?\u001B[0;34m(.0)\u001B[0m\n\u001B[1;32m    479\u001B[0m     def compute_dict_like(\n\u001B[0;32m--> 480\u001B[0;31m         \u001B[0mself\u001B[0m\u001B[0;34m,\u001B[0m\u001B[0;34m\u001B[0m\u001B[0;34m\u001B[0m\u001B[0m\n\u001B[0m\u001B[1;32m    481\u001B[0m         \u001B[0mop_name\u001B[0m\u001B[0;34m:\u001B[0m \u001B[0mLiteral\u001B[0m\u001B[0;34m[\u001B[0m\u001B[0;34m\"agg\"\u001B[0m\u001B[0;34m,\u001B[0m \u001B[0;34m\"apply\"\u001B[0m\u001B[0;34m]\u001B[0m\u001B[0;34m,\u001B[0m\u001B[0;34m\u001B[0m\u001B[0;34m\u001B[0m\u001B[0m\n\u001B[1;32m    482\u001B[0m         \u001B[0mselected_obj\u001B[0m\u001B[0;34m:\u001B[0m \u001B[0mSeries\u001B[0m \u001B[0;34m|\u001B[0m \u001B[0mDataFrame\u001B[0m\u001B[0;34m,\u001B[0m\u001B[0;34m\u001B[0m\u001B[0;34m\u001B[0m\u001B[0m\n\u001B[1;32m    483\u001B[0m         \u001B[0mselection\u001B[0m\u001B[0;34m:\u001B[0m \u001B[0mHashable\u001B[0m \u001B[0;34m|\u001B[0m \u001B[0mSequence\u001B[0m\u001B[0;34m[\u001B[0m\u001B[0mHashable\u001B[0m\u001B[0;34m]\u001B[0m\u001B[0;34m,\u001B[0m\u001B[0;34m\u001B[0m\u001B[0;34m\u001B[0m\u001B[0m\n",
      "\u001B[0;32m~/PycharmProjects/pythonProject3/venv/lib/python3.9/site-packages/pandas/core/groupby/generic.py\u001B[0m in \u001B[0;36m?\u001B[0;34m(self, func, engine, engine_kwargs, *args, **kwargs)\u001B[0m\n\u001B[1;32m    243\u001B[0m                 \u001B[0;31m# numba is requested via the global option)\u001B[0m\u001B[0;34m\u001B[0m\u001B[0;34m\u001B[0m\u001B[0;34m\u001B[0m\u001B[0m\n\u001B[1;32m    244\u001B[0m                 \u001B[0mkwargs\u001B[0m\u001B[0;34m[\u001B[0m\u001B[0;34m\"engine\"\u001B[0m\u001B[0;34m]\u001B[0m \u001B[0;34m=\u001B[0m \u001B[0mengine\u001B[0m\u001B[0;34m\u001B[0m\u001B[0;34m\u001B[0m\u001B[0m\n\u001B[1;32m    245\u001B[0m             \u001B[0;32mif\u001B[0m \u001B[0mengine_kwargs\u001B[0m \u001B[0;32mis\u001B[0m \u001B[0;32mnot\u001B[0m \u001B[0;32mNone\u001B[0m\u001B[0;34m:\u001B[0m\u001B[0;34m\u001B[0m\u001B[0;34m\u001B[0m\u001B[0m\n\u001B[1;32m    246\u001B[0m                 \u001B[0mkwargs\u001B[0m\u001B[0;34m[\u001B[0m\u001B[0;34m\"engine_kwargs\"\u001B[0m\u001B[0;34m]\u001B[0m \u001B[0;34m=\u001B[0m \u001B[0mengine_kwargs\u001B[0m\u001B[0;34m\u001B[0m\u001B[0;34m\u001B[0m\u001B[0m\n\u001B[0;32m--> 247\u001B[0;31m             \u001B[0;32mreturn\u001B[0m \u001B[0mgetattr\u001B[0m\u001B[0;34m(\u001B[0m\u001B[0mself\u001B[0m\u001B[0;34m,\u001B[0m \u001B[0mfunc\u001B[0m\u001B[0;34m)\u001B[0m\u001B[0;34m(\u001B[0m\u001B[0;34m*\u001B[0m\u001B[0margs\u001B[0m\u001B[0;34m,\u001B[0m \u001B[0;34m**\u001B[0m\u001B[0mkwargs\u001B[0m\u001B[0;34m)\u001B[0m\u001B[0;34m\u001B[0m\u001B[0;34m\u001B[0m\u001B[0m\n\u001B[0m\u001B[1;32m    248\u001B[0m \u001B[0;34m\u001B[0m\u001B[0m\n\u001B[1;32m    249\u001B[0m         \u001B[0;32melif\u001B[0m \u001B[0misinstance\u001B[0m\u001B[0;34m(\u001B[0m\u001B[0mfunc\u001B[0m\u001B[0;34m,\u001B[0m \u001B[0mabc\u001B[0m\u001B[0;34m.\u001B[0m\u001B[0mIterable\u001B[0m\u001B[0;34m)\u001B[0m\u001B[0;34m:\u001B[0m\u001B[0;34m\u001B[0m\u001B[0;34m\u001B[0m\u001B[0m\n\u001B[1;32m    250\u001B[0m             \u001B[0;31m# Catch instances of lists / tuples\u001B[0m\u001B[0;34m\u001B[0m\u001B[0;34m\u001B[0m\u001B[0;34m\u001B[0m\u001B[0m\n",
      "\u001B[0;32m~/PycharmProjects/pythonProject3/venv/lib/python3.9/site-packages/pandas/core/groupby/groupby.py\u001B[0m in \u001B[0;36m?\u001B[0;34m(self)\u001B[0m\n\u001B[1;32m   2276\u001B[0m                 \u001B[0;32mreturn\u001B[0m \u001B[0mcounted\u001B[0m\u001B[0;34m[\u001B[0m\u001B[0;36m0\u001B[0m\u001B[0;34m]\u001B[0m\u001B[0;34m\u001B[0m\u001B[0;34m\u001B[0m\u001B[0m\n\u001B[1;32m   2277\u001B[0m             \u001B[0;32mreturn\u001B[0m \u001B[0mcounted\u001B[0m\u001B[0;34m\u001B[0m\u001B[0;34m\u001B[0m\u001B[0m\n\u001B[1;32m   2278\u001B[0m \u001B[0;34m\u001B[0m\u001B[0m\n\u001B[1;32m   2279\u001B[0m         \u001B[0mnew_mgr\u001B[0m \u001B[0;34m=\u001B[0m \u001B[0mdata\u001B[0m\u001B[0;34m.\u001B[0m\u001B[0mgrouped_reduce\u001B[0m\u001B[0;34m(\u001B[0m\u001B[0mhfunc\u001B[0m\u001B[0;34m)\u001B[0m\u001B[0;34m\u001B[0m\u001B[0;34m\u001B[0m\u001B[0m\n\u001B[0;32m-> 2280\u001B[0;31m         \u001B[0mnew_obj\u001B[0m \u001B[0;34m=\u001B[0m \u001B[0mself\u001B[0m\u001B[0;34m.\u001B[0m\u001B[0m_wrap_agged_manager\u001B[0m\u001B[0;34m(\u001B[0m\u001B[0mnew_mgr\u001B[0m\u001B[0;34m)\u001B[0m\u001B[0;34m\u001B[0m\u001B[0;34m\u001B[0m\u001B[0m\n\u001B[0m\u001B[1;32m   2281\u001B[0m \u001B[0;34m\u001B[0m\u001B[0m\n\u001B[1;32m   2282\u001B[0m         \u001B[0;31m# If we are grouping on categoricals we want unobserved categories to\u001B[0m\u001B[0;34m\u001B[0m\u001B[0;34m\u001B[0m\u001B[0;34m\u001B[0m\u001B[0m\n\u001B[1;32m   2283\u001B[0m         \u001B[0;31m# return zero, rather than the default of NaN which the reindexing in\u001B[0m\u001B[0;34m\u001B[0m\u001B[0;34m\u001B[0m\u001B[0;34m\u001B[0m\u001B[0m\n",
      "\u001B[0;32m~/PycharmProjects/pythonProject3/venv/lib/python3.9/site-packages/pandas/core/groupby/generic.py\u001B[0m in \u001B[0;36m?\u001B[0;34m(self, mgr)\u001B[0m\n\u001B[1;32m    153\u001B[0m     \u001B[0;32mdef\u001B[0m \u001B[0m_wrap_agged_manager\u001B[0m\u001B[0;34m(\u001B[0m\u001B[0mself\u001B[0m\u001B[0;34m,\u001B[0m \u001B[0mmgr\u001B[0m\u001B[0;34m:\u001B[0m \u001B[0mManager\u001B[0m\u001B[0;34m)\u001B[0m \u001B[0;34m->\u001B[0m \u001B[0mSeries\u001B[0m\u001B[0;34m:\u001B[0m\u001B[0;34m\u001B[0m\u001B[0;34m\u001B[0m\u001B[0m\n\u001B[1;32m    154\u001B[0m         \u001B[0mout\u001B[0m \u001B[0;34m=\u001B[0m \u001B[0mself\u001B[0m\u001B[0;34m.\u001B[0m\u001B[0mobj\u001B[0m\u001B[0;34m.\u001B[0m\u001B[0m_constructor_from_mgr\u001B[0m\u001B[0;34m(\u001B[0m\u001B[0mmgr\u001B[0m\u001B[0;34m,\u001B[0m \u001B[0maxes\u001B[0m\u001B[0;34m=\u001B[0m\u001B[0mmgr\u001B[0m\u001B[0;34m.\u001B[0m\u001B[0maxes\u001B[0m\u001B[0;34m)\u001B[0m\u001B[0;34m\u001B[0m\u001B[0;34m\u001B[0m\u001B[0m\n\u001B[0;32m--> 155\u001B[0;31m         \u001B[0mout\u001B[0m\u001B[0;34m.\u001B[0m\u001B[0m_name\u001B[0m \u001B[0;34m=\u001B[0m \u001B[0mself\u001B[0m\u001B[0;34m.\u001B[0m\u001B[0mobj\u001B[0m\u001B[0;34m.\u001B[0m\u001B[0mname\u001B[0m\u001B[0;34m\u001B[0m\u001B[0;34m\u001B[0m\u001B[0m\n\u001B[0m\u001B[1;32m    156\u001B[0m         \u001B[0;32mreturn\u001B[0m \u001B[0mout\u001B[0m\u001B[0;34m\u001B[0m\u001B[0;34m\u001B[0m\u001B[0m\n",
      "\u001B[0;32m~/PycharmProjects/pythonProject3/venv/lib/python3.9/site-packages/pandas/core/generic.py\u001B[0m in \u001B[0;36m?\u001B[0;34m(self, name)\u001B[0m\n\u001B[1;32m   6200\u001B[0m             \u001B[0;32mand\u001B[0m \u001B[0mname\u001B[0m \u001B[0;32mnot\u001B[0m \u001B[0;32min\u001B[0m \u001B[0mself\u001B[0m\u001B[0;34m.\u001B[0m\u001B[0m_accessors\u001B[0m\u001B[0;34m\u001B[0m\u001B[0;34m\u001B[0m\u001B[0m\n\u001B[1;32m   6201\u001B[0m             \u001B[0;32mand\u001B[0m \u001B[0mself\u001B[0m\u001B[0;34m.\u001B[0m\u001B[0m_info_axis\u001B[0m\u001B[0;34m.\u001B[0m\u001B[0m_can_hold_identifiers_and_holds_name\u001B[0m\u001B[0;34m(\u001B[0m\u001B[0mname\u001B[0m\u001B[0;34m)\u001B[0m\u001B[0;34m\u001B[0m\u001B[0;34m\u001B[0m\u001B[0m\n\u001B[1;32m   6202\u001B[0m         ):\n\u001B[1;32m   6203\u001B[0m             \u001B[0;32mreturn\u001B[0m \u001B[0mself\u001B[0m\u001B[0;34m[\u001B[0m\u001B[0mname\u001B[0m\u001B[0;34m]\u001B[0m\u001B[0;34m\u001B[0m\u001B[0;34m\u001B[0m\u001B[0m\n\u001B[0;32m-> 6204\u001B[0;31m         \u001B[0;32mreturn\u001B[0m \u001B[0mobject\u001B[0m\u001B[0;34m.\u001B[0m\u001B[0m__getattribute__\u001B[0m\u001B[0;34m(\u001B[0m\u001B[0mself\u001B[0m\u001B[0;34m,\u001B[0m \u001B[0mname\u001B[0m\u001B[0;34m)\u001B[0m\u001B[0;34m\u001B[0m\u001B[0;34m\u001B[0m\u001B[0m\n\u001B[0m",
      "\u001B[0;31mAttributeError\u001B[0m: 'DataFrame' object has no attribute 'name'"
     ]
    }
   ],
   "source": [
    "bikeshare_2021['month'] = pd.to_datetime(bikeshare_2021['Start Time']).dt.month\n",
    "member_trend_2021 = bikeshare_2021.groupby(['month','user type']).agg({'trip id':'count'}).reset_index()\n",
    "member_trend_2021"
   ],
   "metadata": {
    "collapsed": false,
    "ExecuteTime": {
     "end_time": "2023-11-20T00:19:45.482636Z",
     "start_time": "2023-11-20T00:19:42.106908Z"
    }
   },
   "id": "326d66f84e6e3d83"
  },
  {
   "cell_type": "markdown",
   "source": [
    "2020"
   ],
   "metadata": {
    "collapsed": false
   },
   "id": "d428679648bcdfac"
  },
  {
   "cell_type": "code",
   "execution_count": 30,
   "outputs": [
    {
     "name": "stdout",
     "output_type": "stream",
     "text": [
      "<class 'pandas.core.frame.DataFrame'>\n",
      "RangeIndex: 2911308 entries, 0 to 2911307\n",
      "Data columns (total 11 columns):\n",
      " #   Column              Dtype \n",
      "---  ------              ----- \n",
      " 0   Unnamed: 0          int64 \n",
      " 1   trip id             int64 \n",
      " 2   trip duration       int64 \n",
      " 3   start station id    object\n",
      " 4   Start Time          object\n",
      " 5   Start Station Name  object\n",
      " 6   end station id      object\n",
      " 7   End Time            object\n",
      " 8   End Station Name    object\n",
      " 9   Bike Id             object\n",
      " 10  user type           object\n",
      "dtypes: int64(3), object(8)\n",
      "memory usage: 244.3+ MB\n"
     ]
    }
   ],
   "source": [
    "bikeshare_2020 = bikeshare_2020.rename(columns = {'Trip Id':'trip id', 'Trip  Duration': 'trip duration','Start Station Id':'start station id','End Station Id':'end station id','User Type':'user type'})\n",
    "bikeshare_2020.info()"
   ],
   "metadata": {
    "collapsed": false,
    "ExecuteTime": {
     "end_time": "2023-11-20T00:20:21.182872Z",
     "start_time": "2023-11-20T00:20:20.207612Z"
    }
   },
   "id": "af22d8229937606"
  },
  {
   "cell_type": "code",
   "execution_count": 31,
   "outputs": [
    {
     "data": {
      "text/plain": "               trip id\nuser type             \nAnnual Member  1872109\nCasual Member  1038950",
      "text/html": "<div>\n<style scoped>\n    .dataframe tbody tr th:only-of-type {\n        vertical-align: middle;\n    }\n\n    .dataframe tbody tr th {\n        vertical-align: top;\n    }\n\n    .dataframe thead th {\n        text-align: right;\n    }\n</style>\n<table border=\"1\" class=\"dataframe\">\n  <thead>\n    <tr style=\"text-align: right;\">\n      <th></th>\n      <th>trip id</th>\n    </tr>\n    <tr>\n      <th>user type</th>\n      <th></th>\n    </tr>\n  </thead>\n  <tbody>\n    <tr>\n      <th>Annual Member</th>\n      <td>1872109</td>\n    </tr>\n    <tr>\n      <th>Casual Member</th>\n      <td>1038950</td>\n    </tr>\n  </tbody>\n</table>\n</div>"
     },
     "execution_count": 31,
     "metadata": {},
     "output_type": "execute_result"
    }
   ],
   "source": [
    "member_comp_2020 = bikeshare_2020.groupby('user type').agg({'trip id':'count'})\n",
    "member_comp_2020"
   ],
   "metadata": {
    "collapsed": false,
    "ExecuteTime": {
     "end_time": "2023-11-20T00:20:38.216996Z",
     "start_time": "2023-11-20T00:20:38.102857Z"
    }
   },
   "id": "f2294c95e036a0d6"
  },
  {
   "cell_type": "code",
   "execution_count": 35,
   "outputs": [
    {
     "data": {
      "text/plain": "   Unnamed: 0  trip id  trip duration start station id        Start Time  \\\n0           0  7334128            648             7003  01/01/2020 00:08   \n1           1  7334129            419             7007  01/01/2020 00:10   \n2           2  7334130            566             7113  01/01/2020 00:13   \n3           3  7334131           1274             7333  01/01/2020 00:17   \n4           4  7334132            906             7009  01/01/2020 00:19   \n\n             Start Station Name end station id          End Time  \\\n0      Madison Ave / Bloor St W         7271.0  01/01/2020 00:19   \n1         College St / Huron St         7163.0  01/01/2020 00:17   \n2  Parliament St / Aberdeen Ave         7108.0  01/01/2020 00:22   \n3       King St E / Victoria St         7311.0  01/01/2020 00:38   \n4         King St E / Jarvis St         7004.0  01/01/2020 00:34   \n\n                  End Station Name Bike Id      user type  \n0  Yonge St / Alexander St - SMART    3104  Annual Member  \n1               Yonge St / Wood St    2126  Annual Member  \n2           Front St E / Cherry St    4425  Annual Member  \n3      Sherbourne St / Isabella St    4233  Annual Member  \n4          University Ave / Elm St    2341  Casual Member  ",
      "text/html": "<div>\n<style scoped>\n    .dataframe tbody tr th:only-of-type {\n        vertical-align: middle;\n    }\n\n    .dataframe tbody tr th {\n        vertical-align: top;\n    }\n\n    .dataframe thead th {\n        text-align: right;\n    }\n</style>\n<table border=\"1\" class=\"dataframe\">\n  <thead>\n    <tr style=\"text-align: right;\">\n      <th></th>\n      <th>Unnamed: 0</th>\n      <th>trip id</th>\n      <th>trip duration</th>\n      <th>start station id</th>\n      <th>Start Time</th>\n      <th>Start Station Name</th>\n      <th>end station id</th>\n      <th>End Time</th>\n      <th>End Station Name</th>\n      <th>Bike Id</th>\n      <th>user type</th>\n    </tr>\n  </thead>\n  <tbody>\n    <tr>\n      <th>0</th>\n      <td>0</td>\n      <td>7334128</td>\n      <td>648</td>\n      <td>7003</td>\n      <td>01/01/2020 00:08</td>\n      <td>Madison Ave / Bloor St W</td>\n      <td>7271.0</td>\n      <td>01/01/2020 00:19</td>\n      <td>Yonge St / Alexander St - SMART</td>\n      <td>3104</td>\n      <td>Annual Member</td>\n    </tr>\n    <tr>\n      <th>1</th>\n      <td>1</td>\n      <td>7334129</td>\n      <td>419</td>\n      <td>7007</td>\n      <td>01/01/2020 00:10</td>\n      <td>College St / Huron St</td>\n      <td>7163.0</td>\n      <td>01/01/2020 00:17</td>\n      <td>Yonge St / Wood St</td>\n      <td>2126</td>\n      <td>Annual Member</td>\n    </tr>\n    <tr>\n      <th>2</th>\n      <td>2</td>\n      <td>7334130</td>\n      <td>566</td>\n      <td>7113</td>\n      <td>01/01/2020 00:13</td>\n      <td>Parliament St / Aberdeen Ave</td>\n      <td>7108.0</td>\n      <td>01/01/2020 00:22</td>\n      <td>Front St E / Cherry St</td>\n      <td>4425</td>\n      <td>Annual Member</td>\n    </tr>\n    <tr>\n      <th>3</th>\n      <td>3</td>\n      <td>7334131</td>\n      <td>1274</td>\n      <td>7333</td>\n      <td>01/01/2020 00:17</td>\n      <td>King St E / Victoria St</td>\n      <td>7311.0</td>\n      <td>01/01/2020 00:38</td>\n      <td>Sherbourne St / Isabella St</td>\n      <td>4233</td>\n      <td>Annual Member</td>\n    </tr>\n    <tr>\n      <th>4</th>\n      <td>4</td>\n      <td>7334132</td>\n      <td>906</td>\n      <td>7009</td>\n      <td>01/01/2020 00:19</td>\n      <td>King St E / Jarvis St</td>\n      <td>7004.0</td>\n      <td>01/01/2020 00:34</td>\n      <td>University Ave / Elm St</td>\n      <td>2341</td>\n      <td>Casual Member</td>\n    </tr>\n  </tbody>\n</table>\n</div>"
     },
     "execution_count": 35,
     "metadata": {},
     "output_type": "execute_result"
    }
   ],
   "source": [
    "bikeshare_2020.head()"
   ],
   "metadata": {
    "collapsed": false,
    "ExecuteTime": {
     "end_time": "2023-11-20T00:22:27.730440Z",
     "start_time": "2023-11-20T00:22:27.714994Z"
    }
   },
   "id": "ef26a19d47889337"
  },
  {
   "cell_type": "code",
   "execution_count": 51,
   "outputs": [
    {
     "ename": "KeyError",
     "evalue": "'[298653] not found in axis'",
     "output_type": "error",
     "traceback": [
      "\u001B[0;31m---------------------------------------------------------------------------\u001B[0m",
      "\u001B[0;31mKeyError\u001B[0m                                  Traceback (most recent call last)",
      "Cell \u001B[0;32mIn[51], line 1\u001B[0m\n\u001B[0;32m----> 1\u001B[0m bikeshare_2020 \u001B[38;5;241m=\u001B[39m \u001B[43mbikeshare_2020\u001B[49m\u001B[38;5;241;43m.\u001B[39;49m\u001B[43mdrop\u001B[49m\u001B[43m(\u001B[49m\u001B[38;5;241;43m298653\u001B[39;49m\u001B[43m)\u001B[49m\n",
      "File \u001B[0;32m~/PycharmProjects/pythonProject3/venv/lib/python3.9/site-packages/pandas/core/frame.py:5344\u001B[0m, in \u001B[0;36mDataFrame.drop\u001B[0;34m(self, labels, axis, index, columns, level, inplace, errors)\u001B[0m\n\u001B[1;32m   5196\u001B[0m \u001B[38;5;28;01mdef\u001B[39;00m \u001B[38;5;21mdrop\u001B[39m(\n\u001B[1;32m   5197\u001B[0m     \u001B[38;5;28mself\u001B[39m,\n\u001B[1;32m   5198\u001B[0m     labels: IndexLabel \u001B[38;5;241m|\u001B[39m \u001B[38;5;28;01mNone\u001B[39;00m \u001B[38;5;241m=\u001B[39m \u001B[38;5;28;01mNone\u001B[39;00m,\n\u001B[0;32m   (...)\u001B[0m\n\u001B[1;32m   5205\u001B[0m     errors: IgnoreRaise \u001B[38;5;241m=\u001B[39m \u001B[38;5;124m\"\u001B[39m\u001B[38;5;124mraise\u001B[39m\u001B[38;5;124m\"\u001B[39m,\n\u001B[1;32m   5206\u001B[0m ) \u001B[38;5;241m-\u001B[39m\u001B[38;5;241m>\u001B[39m DataFrame \u001B[38;5;241m|\u001B[39m \u001B[38;5;28;01mNone\u001B[39;00m:\n\u001B[1;32m   5207\u001B[0m \u001B[38;5;250m    \u001B[39m\u001B[38;5;124;03m\"\"\"\u001B[39;00m\n\u001B[1;32m   5208\u001B[0m \u001B[38;5;124;03m    Drop specified labels from rows or columns.\u001B[39;00m\n\u001B[1;32m   5209\u001B[0m \n\u001B[0;32m   (...)\u001B[0m\n\u001B[1;32m   5342\u001B[0m \u001B[38;5;124;03m            weight  1.0     0.8\u001B[39;00m\n\u001B[1;32m   5343\u001B[0m \u001B[38;5;124;03m    \"\"\"\u001B[39;00m\n\u001B[0;32m-> 5344\u001B[0m     \u001B[38;5;28;01mreturn\u001B[39;00m \u001B[38;5;28;43msuper\u001B[39;49m\u001B[43m(\u001B[49m\u001B[43m)\u001B[49m\u001B[38;5;241;43m.\u001B[39;49m\u001B[43mdrop\u001B[49m\u001B[43m(\u001B[49m\n\u001B[1;32m   5345\u001B[0m \u001B[43m        \u001B[49m\u001B[43mlabels\u001B[49m\u001B[38;5;241;43m=\u001B[39;49m\u001B[43mlabels\u001B[49m\u001B[43m,\u001B[49m\n\u001B[1;32m   5346\u001B[0m \u001B[43m        \u001B[49m\u001B[43maxis\u001B[49m\u001B[38;5;241;43m=\u001B[39;49m\u001B[43maxis\u001B[49m\u001B[43m,\u001B[49m\n\u001B[1;32m   5347\u001B[0m \u001B[43m        \u001B[49m\u001B[43mindex\u001B[49m\u001B[38;5;241;43m=\u001B[39;49m\u001B[43mindex\u001B[49m\u001B[43m,\u001B[49m\n\u001B[1;32m   5348\u001B[0m \u001B[43m        \u001B[49m\u001B[43mcolumns\u001B[49m\u001B[38;5;241;43m=\u001B[39;49m\u001B[43mcolumns\u001B[49m\u001B[43m,\u001B[49m\n\u001B[1;32m   5349\u001B[0m \u001B[43m        \u001B[49m\u001B[43mlevel\u001B[49m\u001B[38;5;241;43m=\u001B[39;49m\u001B[43mlevel\u001B[49m\u001B[43m,\u001B[49m\n\u001B[1;32m   5350\u001B[0m \u001B[43m        \u001B[49m\u001B[43minplace\u001B[49m\u001B[38;5;241;43m=\u001B[39;49m\u001B[43minplace\u001B[49m\u001B[43m,\u001B[49m\n\u001B[1;32m   5351\u001B[0m \u001B[43m        \u001B[49m\u001B[43merrors\u001B[49m\u001B[38;5;241;43m=\u001B[39;49m\u001B[43merrors\u001B[49m\u001B[43m,\u001B[49m\n\u001B[1;32m   5352\u001B[0m \u001B[43m    \u001B[49m\u001B[43m)\u001B[49m\n",
      "File \u001B[0;32m~/PycharmProjects/pythonProject3/venv/lib/python3.9/site-packages/pandas/core/generic.py:4711\u001B[0m, in \u001B[0;36mNDFrame.drop\u001B[0;34m(self, labels, axis, index, columns, level, inplace, errors)\u001B[0m\n\u001B[1;32m   4709\u001B[0m \u001B[38;5;28;01mfor\u001B[39;00m axis, labels \u001B[38;5;129;01min\u001B[39;00m axes\u001B[38;5;241m.\u001B[39mitems():\n\u001B[1;32m   4710\u001B[0m     \u001B[38;5;28;01mif\u001B[39;00m labels \u001B[38;5;129;01mis\u001B[39;00m \u001B[38;5;129;01mnot\u001B[39;00m \u001B[38;5;28;01mNone\u001B[39;00m:\n\u001B[0;32m-> 4711\u001B[0m         obj \u001B[38;5;241m=\u001B[39m \u001B[43mobj\u001B[49m\u001B[38;5;241;43m.\u001B[39;49m\u001B[43m_drop_axis\u001B[49m\u001B[43m(\u001B[49m\u001B[43mlabels\u001B[49m\u001B[43m,\u001B[49m\u001B[43m \u001B[49m\u001B[43maxis\u001B[49m\u001B[43m,\u001B[49m\u001B[43m \u001B[49m\u001B[43mlevel\u001B[49m\u001B[38;5;241;43m=\u001B[39;49m\u001B[43mlevel\u001B[49m\u001B[43m,\u001B[49m\u001B[43m \u001B[49m\u001B[43merrors\u001B[49m\u001B[38;5;241;43m=\u001B[39;49m\u001B[43merrors\u001B[49m\u001B[43m)\u001B[49m\n\u001B[1;32m   4713\u001B[0m \u001B[38;5;28;01mif\u001B[39;00m inplace:\n\u001B[1;32m   4714\u001B[0m     \u001B[38;5;28mself\u001B[39m\u001B[38;5;241m.\u001B[39m_update_inplace(obj)\n",
      "File \u001B[0;32m~/PycharmProjects/pythonProject3/venv/lib/python3.9/site-packages/pandas/core/generic.py:4753\u001B[0m, in \u001B[0;36mNDFrame._drop_axis\u001B[0;34m(self, labels, axis, level, errors, only_slice)\u001B[0m\n\u001B[1;32m   4751\u001B[0m         new_axis \u001B[38;5;241m=\u001B[39m axis\u001B[38;5;241m.\u001B[39mdrop(labels, level\u001B[38;5;241m=\u001B[39mlevel, errors\u001B[38;5;241m=\u001B[39merrors)\n\u001B[1;32m   4752\u001B[0m     \u001B[38;5;28;01melse\u001B[39;00m:\n\u001B[0;32m-> 4753\u001B[0m         new_axis \u001B[38;5;241m=\u001B[39m \u001B[43maxis\u001B[49m\u001B[38;5;241;43m.\u001B[39;49m\u001B[43mdrop\u001B[49m\u001B[43m(\u001B[49m\u001B[43mlabels\u001B[49m\u001B[43m,\u001B[49m\u001B[43m \u001B[49m\u001B[43merrors\u001B[49m\u001B[38;5;241;43m=\u001B[39;49m\u001B[43merrors\u001B[49m\u001B[43m)\u001B[49m\n\u001B[1;32m   4754\u001B[0m     indexer \u001B[38;5;241m=\u001B[39m axis\u001B[38;5;241m.\u001B[39mget_indexer(new_axis)\n\u001B[1;32m   4756\u001B[0m \u001B[38;5;66;03m# Case for non-unique axis\u001B[39;00m\n\u001B[1;32m   4757\u001B[0m \u001B[38;5;28;01melse\u001B[39;00m:\n",
      "File \u001B[0;32m~/PycharmProjects/pythonProject3/venv/lib/python3.9/site-packages/pandas/core/indexes/base.py:6992\u001B[0m, in \u001B[0;36mIndex.drop\u001B[0;34m(self, labels, errors)\u001B[0m\n\u001B[1;32m   6990\u001B[0m \u001B[38;5;28;01mif\u001B[39;00m mask\u001B[38;5;241m.\u001B[39many():\n\u001B[1;32m   6991\u001B[0m     \u001B[38;5;28;01mif\u001B[39;00m errors \u001B[38;5;241m!=\u001B[39m \u001B[38;5;124m\"\u001B[39m\u001B[38;5;124mignore\u001B[39m\u001B[38;5;124m\"\u001B[39m:\n\u001B[0;32m-> 6992\u001B[0m         \u001B[38;5;28;01mraise\u001B[39;00m \u001B[38;5;167;01mKeyError\u001B[39;00m(\u001B[38;5;124mf\u001B[39m\u001B[38;5;124m\"\u001B[39m\u001B[38;5;132;01m{\u001B[39;00mlabels[mask]\u001B[38;5;241m.\u001B[39mtolist()\u001B[38;5;132;01m}\u001B[39;00m\u001B[38;5;124m not found in axis\u001B[39m\u001B[38;5;124m\"\u001B[39m)\n\u001B[1;32m   6993\u001B[0m     indexer \u001B[38;5;241m=\u001B[39m indexer[\u001B[38;5;241m~\u001B[39mmask]\n\u001B[1;32m   6994\u001B[0m \u001B[38;5;28;01mreturn\u001B[39;00m \u001B[38;5;28mself\u001B[39m\u001B[38;5;241m.\u001B[39mdelete(indexer)\n",
      "\u001B[0;31mKeyError\u001B[0m: '[298653] not found in axis'"
     ]
    }
   ],
   "source": [
    "bikeshare_2020 = bikeshare_2020.drop([298653])"
   ],
   "metadata": {
    "collapsed": false,
    "ExecuteTime": {
     "end_time": "2023-11-20T00:34:46.632869Z",
     "start_time": "2023-11-20T00:34:46.514062Z"
    }
   },
   "id": "529b365012d21f1e"
  },
  {
   "cell_type": "code",
   "execution_count": 52,
   "outputs": [
    {
     "ename": "DateParseError",
     "evalue": "Unknown datetime string format, unable to parse: Gerrard St E / River St, at position 298653",
     "output_type": "error",
     "traceback": [
      "\u001B[0;31m---------------------------------------------------------------------------\u001B[0m",
      "\u001B[0;31mDateParseError\u001B[0m                            Traceback (most recent call last)",
      "Cell \u001B[0;32mIn[52], line 1\u001B[0m\n\u001B[0;32m----> 1\u001B[0m bikeshare_2020[\u001B[38;5;124m'\u001B[39m\u001B[38;5;124mmonth\u001B[39m\u001B[38;5;124m'\u001B[39m] \u001B[38;5;241m=\u001B[39m \u001B[43mpd\u001B[49m\u001B[38;5;241;43m.\u001B[39;49m\u001B[43mto_datetime\u001B[49m\u001B[43m(\u001B[49m\u001B[43mbikeshare_2020\u001B[49m\u001B[43m[\u001B[49m\u001B[38;5;124;43m'\u001B[39;49m\u001B[38;5;124;43mStart Time\u001B[39;49m\u001B[38;5;124;43m'\u001B[39;49m\u001B[43m]\u001B[49m\u001B[43m,\u001B[49m\u001B[43m \u001B[49m\u001B[38;5;28;43mformat\u001B[39;49m\u001B[43m \u001B[49m\u001B[38;5;241;43m=\u001B[39;49m\u001B[43m \u001B[49m\u001B[38;5;124;43m'\u001B[39;49m\u001B[38;5;124;43mmixed\u001B[39;49m\u001B[38;5;124;43m'\u001B[39;49m\u001B[43m \u001B[49m\u001B[43m)\u001B[49m\u001B[38;5;241m.\u001B[39mdt\u001B[38;5;241m.\u001B[39mmonth\n\u001B[1;32m      3\u001B[0m member_trend_2020 \u001B[38;5;241m=\u001B[39m bikeshare_2020\u001B[38;5;241m.\u001B[39mgroupby([\u001B[38;5;124m'\u001B[39m\u001B[38;5;124mmonth\u001B[39m\u001B[38;5;124m'\u001B[39m,\u001B[38;5;124m'\u001B[39m\u001B[38;5;124muser type\u001B[39m\u001B[38;5;124m'\u001B[39m])\u001B[38;5;241m.\u001B[39magg({\u001B[38;5;124m'\u001B[39m\u001B[38;5;124mtrip id\u001B[39m\u001B[38;5;124m'\u001B[39m:\u001B[38;5;124m'\u001B[39m\u001B[38;5;124mcount\u001B[39m\u001B[38;5;124m'\u001B[39m})\u001B[38;5;241m.\u001B[39mreset_index()\n\u001B[1;32m      4\u001B[0m member_trend_2020\n",
      "File \u001B[0;32m~/PycharmProjects/pythonProject3/venv/lib/python3.9/site-packages/pandas/core/tools/datetimes.py:1108\u001B[0m, in \u001B[0;36mto_datetime\u001B[0;34m(arg, errors, dayfirst, yearfirst, utc, format, exact, unit, infer_datetime_format, origin, cache)\u001B[0m\n\u001B[1;32m   1106\u001B[0m             result \u001B[38;5;241m=\u001B[39m arg\u001B[38;5;241m.\u001B[39mtz_localize(\u001B[38;5;124m\"\u001B[39m\u001B[38;5;124mutc\u001B[39m\u001B[38;5;124m\"\u001B[39m)\n\u001B[1;32m   1107\u001B[0m \u001B[38;5;28;01melif\u001B[39;00m \u001B[38;5;28misinstance\u001B[39m(arg, ABCSeries):\n\u001B[0;32m-> 1108\u001B[0m     cache_array \u001B[38;5;241m=\u001B[39m \u001B[43m_maybe_cache\u001B[49m\u001B[43m(\u001B[49m\u001B[43marg\u001B[49m\u001B[43m,\u001B[49m\u001B[43m \u001B[49m\u001B[38;5;28;43mformat\u001B[39;49m\u001B[43m,\u001B[49m\u001B[43m \u001B[49m\u001B[43mcache\u001B[49m\u001B[43m,\u001B[49m\u001B[43m \u001B[49m\u001B[43mconvert_listlike\u001B[49m\u001B[43m)\u001B[49m\n\u001B[1;32m   1109\u001B[0m     \u001B[38;5;28;01mif\u001B[39;00m \u001B[38;5;129;01mnot\u001B[39;00m cache_array\u001B[38;5;241m.\u001B[39mempty:\n\u001B[1;32m   1110\u001B[0m         result \u001B[38;5;241m=\u001B[39m arg\u001B[38;5;241m.\u001B[39mmap(cache_array)\n",
      "File \u001B[0;32m~/PycharmProjects/pythonProject3/venv/lib/python3.9/site-packages/pandas/core/tools/datetimes.py:254\u001B[0m, in \u001B[0;36m_maybe_cache\u001B[0;34m(arg, format, cache, convert_listlike)\u001B[0m\n\u001B[1;32m    252\u001B[0m unique_dates \u001B[38;5;241m=\u001B[39m unique(arg)\n\u001B[1;32m    253\u001B[0m \u001B[38;5;28;01mif\u001B[39;00m \u001B[38;5;28mlen\u001B[39m(unique_dates) \u001B[38;5;241m<\u001B[39m \u001B[38;5;28mlen\u001B[39m(arg):\n\u001B[0;32m--> 254\u001B[0m     cache_dates \u001B[38;5;241m=\u001B[39m \u001B[43mconvert_listlike\u001B[49m\u001B[43m(\u001B[49m\u001B[43munique_dates\u001B[49m\u001B[43m,\u001B[49m\u001B[43m \u001B[49m\u001B[38;5;28;43mformat\u001B[39;49m\u001B[43m)\u001B[49m\n\u001B[1;32m    255\u001B[0m     \u001B[38;5;66;03m# GH#45319\u001B[39;00m\n\u001B[1;32m    256\u001B[0m     \u001B[38;5;28;01mtry\u001B[39;00m:\n",
      "File \u001B[0;32m~/PycharmProjects/pythonProject3/venv/lib/python3.9/site-packages/pandas/core/tools/datetimes.py:490\u001B[0m, in \u001B[0;36m_convert_listlike_datetimes\u001B[0;34m(arg, format, name, utc, unit, errors, dayfirst, yearfirst, exact)\u001B[0m\n\u001B[1;32m    487\u001B[0m \u001B[38;5;28;01mif\u001B[39;00m \u001B[38;5;28mformat\u001B[39m \u001B[38;5;129;01mis\u001B[39;00m \u001B[38;5;129;01mnot\u001B[39;00m \u001B[38;5;28;01mNone\u001B[39;00m \u001B[38;5;129;01mand\u001B[39;00m \u001B[38;5;28mformat\u001B[39m \u001B[38;5;241m!=\u001B[39m \u001B[38;5;124m\"\u001B[39m\u001B[38;5;124mmixed\u001B[39m\u001B[38;5;124m\"\u001B[39m:\n\u001B[1;32m    488\u001B[0m     \u001B[38;5;28;01mreturn\u001B[39;00m _array_strptime_with_fallback(arg, name, utc, \u001B[38;5;28mformat\u001B[39m, exact, errors)\n\u001B[0;32m--> 490\u001B[0m result, tz_parsed \u001B[38;5;241m=\u001B[39m \u001B[43mobjects_to_datetime64ns\u001B[49m\u001B[43m(\u001B[49m\n\u001B[1;32m    491\u001B[0m \u001B[43m    \u001B[49m\u001B[43marg\u001B[49m\u001B[43m,\u001B[49m\n\u001B[1;32m    492\u001B[0m \u001B[43m    \u001B[49m\u001B[43mdayfirst\u001B[49m\u001B[38;5;241;43m=\u001B[39;49m\u001B[43mdayfirst\u001B[49m\u001B[43m,\u001B[49m\n\u001B[1;32m    493\u001B[0m \u001B[43m    \u001B[49m\u001B[43myearfirst\u001B[49m\u001B[38;5;241;43m=\u001B[39;49m\u001B[43myearfirst\u001B[49m\u001B[43m,\u001B[49m\n\u001B[1;32m    494\u001B[0m \u001B[43m    \u001B[49m\u001B[43mutc\u001B[49m\u001B[38;5;241;43m=\u001B[39;49m\u001B[43mutc\u001B[49m\u001B[43m,\u001B[49m\n\u001B[1;32m    495\u001B[0m \u001B[43m    \u001B[49m\u001B[43merrors\u001B[49m\u001B[38;5;241;43m=\u001B[39;49m\u001B[43merrors\u001B[49m\u001B[43m,\u001B[49m\n\u001B[1;32m    496\u001B[0m \u001B[43m    \u001B[49m\u001B[43mallow_object\u001B[49m\u001B[38;5;241;43m=\u001B[39;49m\u001B[38;5;28;43;01mTrue\u001B[39;49;00m\u001B[43m,\u001B[49m\n\u001B[1;32m    497\u001B[0m \u001B[43m\u001B[49m\u001B[43m)\u001B[49m\n\u001B[1;32m    499\u001B[0m \u001B[38;5;28;01mif\u001B[39;00m tz_parsed \u001B[38;5;129;01mis\u001B[39;00m \u001B[38;5;129;01mnot\u001B[39;00m \u001B[38;5;28;01mNone\u001B[39;00m:\n\u001B[1;32m    500\u001B[0m     \u001B[38;5;66;03m# We can take a shortcut since the datetime64 numpy array\u001B[39;00m\n\u001B[1;32m    501\u001B[0m     \u001B[38;5;66;03m# is in UTC\u001B[39;00m\n\u001B[1;32m    502\u001B[0m     dta \u001B[38;5;241m=\u001B[39m DatetimeArray(result, dtype\u001B[38;5;241m=\u001B[39mtz_to_dtype(tz_parsed))\n",
      "File \u001B[0;32m~/PycharmProjects/pythonProject3/venv/lib/python3.9/site-packages/pandas/core/arrays/datetimes.py:2346\u001B[0m, in \u001B[0;36mobjects_to_datetime64ns\u001B[0;34m(data, dayfirst, yearfirst, utc, errors, allow_object)\u001B[0m\n\u001B[1;32m   2343\u001B[0m \u001B[38;5;66;03m# if str-dtype, convert\u001B[39;00m\n\u001B[1;32m   2344\u001B[0m data \u001B[38;5;241m=\u001B[39m np\u001B[38;5;241m.\u001B[39marray(data, copy\u001B[38;5;241m=\u001B[39m\u001B[38;5;28;01mFalse\u001B[39;00m, dtype\u001B[38;5;241m=\u001B[39mnp\u001B[38;5;241m.\u001B[39mobject_)\n\u001B[0;32m-> 2346\u001B[0m result, tz_parsed \u001B[38;5;241m=\u001B[39m \u001B[43mtslib\u001B[49m\u001B[38;5;241;43m.\u001B[39;49m\u001B[43marray_to_datetime\u001B[49m\u001B[43m(\u001B[49m\n\u001B[1;32m   2347\u001B[0m \u001B[43m    \u001B[49m\u001B[43mdata\u001B[49m\u001B[43m,\u001B[49m\n\u001B[1;32m   2348\u001B[0m \u001B[43m    \u001B[49m\u001B[43merrors\u001B[49m\u001B[38;5;241;43m=\u001B[39;49m\u001B[43merrors\u001B[49m\u001B[43m,\u001B[49m\n\u001B[1;32m   2349\u001B[0m \u001B[43m    \u001B[49m\u001B[43mutc\u001B[49m\u001B[38;5;241;43m=\u001B[39;49m\u001B[43mutc\u001B[49m\u001B[43m,\u001B[49m\n\u001B[1;32m   2350\u001B[0m \u001B[43m    \u001B[49m\u001B[43mdayfirst\u001B[49m\u001B[38;5;241;43m=\u001B[39;49m\u001B[43mdayfirst\u001B[49m\u001B[43m,\u001B[49m\n\u001B[1;32m   2351\u001B[0m \u001B[43m    \u001B[49m\u001B[43myearfirst\u001B[49m\u001B[38;5;241;43m=\u001B[39;49m\u001B[43myearfirst\u001B[49m\u001B[43m,\u001B[49m\n\u001B[1;32m   2352\u001B[0m \u001B[43m\u001B[49m\u001B[43m)\u001B[49m\n\u001B[1;32m   2354\u001B[0m \u001B[38;5;28;01mif\u001B[39;00m tz_parsed \u001B[38;5;129;01mis\u001B[39;00m \u001B[38;5;129;01mnot\u001B[39;00m \u001B[38;5;28;01mNone\u001B[39;00m:\n\u001B[1;32m   2355\u001B[0m     \u001B[38;5;66;03m# We can take a shortcut since the datetime64 numpy array\u001B[39;00m\n\u001B[1;32m   2356\u001B[0m     \u001B[38;5;66;03m#  is in UTC\u001B[39;00m\n\u001B[1;32m   2357\u001B[0m     \u001B[38;5;66;03m# Return i8 values to denote unix timestamps\u001B[39;00m\n\u001B[1;32m   2358\u001B[0m     \u001B[38;5;28;01mreturn\u001B[39;00m result\u001B[38;5;241m.\u001B[39mview(\u001B[38;5;124m\"\u001B[39m\u001B[38;5;124mi8\u001B[39m\u001B[38;5;124m\"\u001B[39m), tz_parsed\n",
      "File \u001B[0;32mtslib.pyx:403\u001B[0m, in \u001B[0;36mpandas._libs.tslib.array_to_datetime\u001B[0;34m()\u001B[0m\n",
      "File \u001B[0;32mtslib.pyx:552\u001B[0m, in \u001B[0;36mpandas._libs.tslib.array_to_datetime\u001B[0;34m()\u001B[0m\n",
      "File \u001B[0;32mtslib.pyx:517\u001B[0m, in \u001B[0;36mpandas._libs.tslib.array_to_datetime\u001B[0;34m()\u001B[0m\n",
      "File \u001B[0;32mconversion.pyx:546\u001B[0m, in \u001B[0;36mpandas._libs.tslibs.conversion.convert_str_to_tsobject\u001B[0;34m()\u001B[0m\n",
      "File \u001B[0;32mparsing.pyx:331\u001B[0m, in \u001B[0;36mpandas._libs.tslibs.parsing.parse_datetime_string\u001B[0;34m()\u001B[0m\n",
      "File \u001B[0;32mparsing.pyx:660\u001B[0m, in \u001B[0;36mpandas._libs.tslibs.parsing.dateutil_parse\u001B[0;34m()\u001B[0m\n",
      "\u001B[0;31mDateParseError\u001B[0m: Unknown datetime string format, unable to parse: Gerrard St E / River St, at position 298653"
     ]
    }
   ],
   "source": [
    "bikeshare_2020['month'] = pd.to_datetime(bikeshare_2020['Start Time'], format = 'mixed' ).dt.month\n",
    "\n",
    "member_trend_2020 = bikeshare_2020.groupby(['month','user type']).agg({'trip id':'count'}).reset_index()\n",
    "member_trend_2020"
   ],
   "metadata": {
    "collapsed": false,
    "ExecuteTime": {
     "end_time": "2023-11-20T00:35:32.540597Z",
     "start_time": "2023-11-20T00:34:56.544615Z"
    }
   },
   "id": "315af708033833f6"
  },
  {
   "cell_type": "markdown",
   "source": [
    "2019"
   ],
   "metadata": {
    "collapsed": false
   },
   "id": "95d8ccd255c53000"
  },
  {
   "cell_type": "code",
   "execution_count": 53,
   "outputs": [
    {
     "data": {
      "text/plain": "   Unnamed: 0  Trip Id  Trip  Duration  Start Station Id        Start Time  \\\n0           0  4581278          1547.0              7021  01/01/2019 00:08   \n1           1  4581279          1112.0              7160  01/01/2019 00:10   \n2           2  4581280           589.0              7055  01/01/2019 00:15   \n3           3  4581281           259.0              7012  01/01/2019 00:16   \n4           4  4581282           281.0              7041  01/01/2019 00:19   \n\n                        Start Station Name  End Station Id          End Time  \\\n0                       Bay St / Albert St          7233.0  01/01/2019 00:33   \n1                 King St W / Tecumseth St          7051.0  01/01/2019 00:29   \n2                   Jarvis St / Carlton St          7013.0  01/01/2019 00:25   \n3  Elizabeth St / Edward St (Bus Terminal)          7235.0  01/01/2019 00:20   \n4                     Edward St / Yonge St          7257.0  01/01/2019 00:24   \n\n                          End Station Name  Bike Id      User Type  \n0                 King / Cowan Ave - SMART     1296  Annual Member  \n1      Wellesley St E / Yonge St (Green P)     2947  Annual Member  \n2                 Scott St / The Esplanade     2293  Annual Member  \n3  Bay St / College St (West Side) - SMART      283  Annual Member  \n4             Dundas St W / St. Patrick St     1799  Annual Member  ",
      "text/html": "<div>\n<style scoped>\n    .dataframe tbody tr th:only-of-type {\n        vertical-align: middle;\n    }\n\n    .dataframe tbody tr th {\n        vertical-align: top;\n    }\n\n    .dataframe thead th {\n        text-align: right;\n    }\n</style>\n<table border=\"1\" class=\"dataframe\">\n  <thead>\n    <tr style=\"text-align: right;\">\n      <th></th>\n      <th>Unnamed: 0</th>\n      <th>Trip Id</th>\n      <th>Trip  Duration</th>\n      <th>Start Station Id</th>\n      <th>Start Time</th>\n      <th>Start Station Name</th>\n      <th>End Station Id</th>\n      <th>End Time</th>\n      <th>End Station Name</th>\n      <th>Bike Id</th>\n      <th>User Type</th>\n    </tr>\n  </thead>\n  <tbody>\n    <tr>\n      <th>0</th>\n      <td>0</td>\n      <td>4581278</td>\n      <td>1547.0</td>\n      <td>7021</td>\n      <td>01/01/2019 00:08</td>\n      <td>Bay St / Albert St</td>\n      <td>7233.0</td>\n      <td>01/01/2019 00:33</td>\n      <td>King / Cowan Ave - SMART</td>\n      <td>1296</td>\n      <td>Annual Member</td>\n    </tr>\n    <tr>\n      <th>1</th>\n      <td>1</td>\n      <td>4581279</td>\n      <td>1112.0</td>\n      <td>7160</td>\n      <td>01/01/2019 00:10</td>\n      <td>King St W / Tecumseth St</td>\n      <td>7051.0</td>\n      <td>01/01/2019 00:29</td>\n      <td>Wellesley St E / Yonge St (Green P)</td>\n      <td>2947</td>\n      <td>Annual Member</td>\n    </tr>\n    <tr>\n      <th>2</th>\n      <td>2</td>\n      <td>4581280</td>\n      <td>589.0</td>\n      <td>7055</td>\n      <td>01/01/2019 00:15</td>\n      <td>Jarvis St / Carlton St</td>\n      <td>7013.0</td>\n      <td>01/01/2019 00:25</td>\n      <td>Scott St / The Esplanade</td>\n      <td>2293</td>\n      <td>Annual Member</td>\n    </tr>\n    <tr>\n      <th>3</th>\n      <td>3</td>\n      <td>4581281</td>\n      <td>259.0</td>\n      <td>7012</td>\n      <td>01/01/2019 00:16</td>\n      <td>Elizabeth St / Edward St (Bus Terminal)</td>\n      <td>7235.0</td>\n      <td>01/01/2019 00:20</td>\n      <td>Bay St / College St (West Side) - SMART</td>\n      <td>283</td>\n      <td>Annual Member</td>\n    </tr>\n    <tr>\n      <th>4</th>\n      <td>4</td>\n      <td>4581282</td>\n      <td>281.0</td>\n      <td>7041</td>\n      <td>01/01/2019 00:19</td>\n      <td>Edward St / Yonge St</td>\n      <td>7257.0</td>\n      <td>01/01/2019 00:24</td>\n      <td>Dundas St W / St. Patrick St</td>\n      <td>1799</td>\n      <td>Annual Member</td>\n    </tr>\n  </tbody>\n</table>\n</div>"
     },
     "execution_count": 53,
     "metadata": {},
     "output_type": "execute_result"
    }
   ],
   "source": [
    "bikeshare_2019.head()"
   ],
   "metadata": {
    "collapsed": false,
    "ExecuteTime": {
     "end_time": "2023-11-20T00:35:36.163775Z",
     "start_time": "2023-11-20T00:35:36.135190Z"
    }
   },
   "id": "6de8a7c7ac59661b"
  },
  {
   "cell_type": "code",
   "execution_count": 54,
   "outputs": [
    {
     "name": "stdout",
     "output_type": "stream",
     "text": [
      "<class 'pandas.core.frame.DataFrame'>\n",
      "RangeIndex: 2439517 entries, 0 to 2439516\n",
      "Data columns (total 11 columns):\n",
      " #   Column              Dtype  \n",
      "---  ------              -----  \n",
      " 0   Unnamed: 0          int64  \n",
      " 1   trip id             int64  \n",
      " 2   trip duration       float64\n",
      " 3   start station id    int64  \n",
      " 4   Start Time          object \n",
      " 5   Start Station Name  object \n",
      " 6   end station id      float64\n",
      " 7   End Time            object \n",
      " 8   End Station Name    object \n",
      " 9   Bike Id             int64  \n",
      " 10  user type           object \n",
      "dtypes: float64(2), int64(4), object(5)\n",
      "memory usage: 204.7+ MB\n"
     ]
    }
   ],
   "source": [
    "bikeshare_2019 = bikeshare_2019.rename(columns = {'Trip Id':'trip id', 'Trip  Duration': 'trip duration','Start Station Id':'start station id','End Station Id':'end station id','User Type':'user type'})\n",
    "bikeshare_2019.info()"
   ],
   "metadata": {
    "collapsed": false,
    "ExecuteTime": {
     "end_time": "2023-11-20T00:35:54.034065Z",
     "start_time": "2023-11-20T00:35:52.331821Z"
    }
   },
   "id": "178b3fbc35a00a50"
  },
  {
   "cell_type": "code",
   "execution_count": 55,
   "outputs": [
    {
     "data": {
      "text/plain": "    month      user type  trip id\n0       1  Annual Member    59520\n1       1  Casual Member     1942\n2       2  Annual Member    38971\n3       2  Casual Member     1087\n4       3  Annual Member    82200\n5       3  Casual Member     5343\n6       4  Annual Member   123931\n7       4  Casual Member    21220\n8       5  Annual Member   164632\n9       5  Casual Member    49984\n10      6  Annual Member   200546\n11      6  Casual Member    91372\n12      7  Annual Member   260423\n13      7  Casual Member   121813\n14      8  Annual Member   262622\n15      8  Casual Member   154773\n16      9  Annual Member   252013\n17      9  Casual Member    78709\n18     10  Annual Member   208916\n19     10  Casual Member    39741\n20     11  Annual Member   127939\n21     11  Casual Member     9431\n22     12  Annual Member    77678\n23     12  Casual Member     4711",
      "text/html": "<div>\n<style scoped>\n    .dataframe tbody tr th:only-of-type {\n        vertical-align: middle;\n    }\n\n    .dataframe tbody tr th {\n        vertical-align: top;\n    }\n\n    .dataframe thead th {\n        text-align: right;\n    }\n</style>\n<table border=\"1\" class=\"dataframe\">\n  <thead>\n    <tr style=\"text-align: right;\">\n      <th></th>\n      <th>month</th>\n      <th>user type</th>\n      <th>trip id</th>\n    </tr>\n  </thead>\n  <tbody>\n    <tr>\n      <th>0</th>\n      <td>1</td>\n      <td>Annual Member</td>\n      <td>59520</td>\n    </tr>\n    <tr>\n      <th>1</th>\n      <td>1</td>\n      <td>Casual Member</td>\n      <td>1942</td>\n    </tr>\n    <tr>\n      <th>2</th>\n      <td>2</td>\n      <td>Annual Member</td>\n      <td>38971</td>\n    </tr>\n    <tr>\n      <th>3</th>\n      <td>2</td>\n      <td>Casual Member</td>\n      <td>1087</td>\n    </tr>\n    <tr>\n      <th>4</th>\n      <td>3</td>\n      <td>Annual Member</td>\n      <td>82200</td>\n    </tr>\n    <tr>\n      <th>5</th>\n      <td>3</td>\n      <td>Casual Member</td>\n      <td>5343</td>\n    </tr>\n    <tr>\n      <th>6</th>\n      <td>4</td>\n      <td>Annual Member</td>\n      <td>123931</td>\n    </tr>\n    <tr>\n      <th>7</th>\n      <td>4</td>\n      <td>Casual Member</td>\n      <td>21220</td>\n    </tr>\n    <tr>\n      <th>8</th>\n      <td>5</td>\n      <td>Annual Member</td>\n      <td>164632</td>\n    </tr>\n    <tr>\n      <th>9</th>\n      <td>5</td>\n      <td>Casual Member</td>\n      <td>49984</td>\n    </tr>\n    <tr>\n      <th>10</th>\n      <td>6</td>\n      <td>Annual Member</td>\n      <td>200546</td>\n    </tr>\n    <tr>\n      <th>11</th>\n      <td>6</td>\n      <td>Casual Member</td>\n      <td>91372</td>\n    </tr>\n    <tr>\n      <th>12</th>\n      <td>7</td>\n      <td>Annual Member</td>\n      <td>260423</td>\n    </tr>\n    <tr>\n      <th>13</th>\n      <td>7</td>\n      <td>Casual Member</td>\n      <td>121813</td>\n    </tr>\n    <tr>\n      <th>14</th>\n      <td>8</td>\n      <td>Annual Member</td>\n      <td>262622</td>\n    </tr>\n    <tr>\n      <th>15</th>\n      <td>8</td>\n      <td>Casual Member</td>\n      <td>154773</td>\n    </tr>\n    <tr>\n      <th>16</th>\n      <td>9</td>\n      <td>Annual Member</td>\n      <td>252013</td>\n    </tr>\n    <tr>\n      <th>17</th>\n      <td>9</td>\n      <td>Casual Member</td>\n      <td>78709</td>\n    </tr>\n    <tr>\n      <th>18</th>\n      <td>10</td>\n      <td>Annual Member</td>\n      <td>208916</td>\n    </tr>\n    <tr>\n      <th>19</th>\n      <td>10</td>\n      <td>Casual Member</td>\n      <td>39741</td>\n    </tr>\n    <tr>\n      <th>20</th>\n      <td>11</td>\n      <td>Annual Member</td>\n      <td>127939</td>\n    </tr>\n    <tr>\n      <th>21</th>\n      <td>11</td>\n      <td>Casual Member</td>\n      <td>9431</td>\n    </tr>\n    <tr>\n      <th>22</th>\n      <td>12</td>\n      <td>Annual Member</td>\n      <td>77678</td>\n    </tr>\n    <tr>\n      <th>23</th>\n      <td>12</td>\n      <td>Casual Member</td>\n      <td>4711</td>\n    </tr>\n  </tbody>\n</table>\n</div>"
     },
     "execution_count": 55,
     "metadata": {},
     "output_type": "execute_result"
    }
   ],
   "source": [
    "bikeshare_2019['month'] = pd.to_datetime(bikeshare_2019['Start Time'], format = 'mixed' ).dt.month\n",
    "\n",
    "member_trend_2019 = bikeshare_2019.groupby(['month','user type']).agg({'trip id':'count'}).reset_index()\n",
    "member_trend_2019"
   ],
   "metadata": {
    "collapsed": false,
    "ExecuteTime": {
     "end_time": "2023-11-20T00:36:43.305040Z",
     "start_time": "2023-11-20T00:35:59.660032Z"
    }
   },
   "id": "6a4ba68dea5d6675"
  },
  {
   "cell_type": "markdown",
   "source": [
    "2018"
   ],
   "metadata": {
    "collapsed": false
   },
   "id": "c5bddd4ca06522d9"
  },
  {
   "cell_type": "code",
   "execution_count": 56,
   "outputs": [
    {
     "data": {
      "text/plain": "   Unnamed: 0  trip_id  trip_duration_seconds  from_station_id  \\\n0           0  2383648                    393             7018   \n1           1  2383649                    625             7184   \n2           2  2383650                    233             7235   \n3           3  2383651                   1138             7202   \n4           4  2383652                    703             7004   \n\n  trip_start_time                        from_station_name trip_stop_time  \\\n0   1/1/2018 0:47                   Bremner Blvd / Rees St  1/1/2018 0:54   \n1   1/1/2018 0:52               Ossington Ave / College St  1/1/2018 1:03   \n2   1/1/2018 0:55  Bay St / College St (West Side) - SMART  1/1/2018 0:59   \n3   1/1/2018 0:57         Queen St W / York St (City Hall)  1/1/2018 1:16   \n4   1/1/2018 1:00                  University Ave / Elm St  1/1/2018 1:12   \n\n   to_station_id               to_station_name      user_type  \n0           7176  Bathurst St / Fort York Blvd  Annual Member  \n1           7191    Central Tech  (Harbord St)  Annual Member  \n2           7021            Bay St / Albert St  Annual Member  \n3           7020       Phoebe St / Spadina Ave  Annual Member  \n4           7060   Princess St / Adelaide St E  Annual Member  ",
      "text/html": "<div>\n<style scoped>\n    .dataframe tbody tr th:only-of-type {\n        vertical-align: middle;\n    }\n\n    .dataframe tbody tr th {\n        vertical-align: top;\n    }\n\n    .dataframe thead th {\n        text-align: right;\n    }\n</style>\n<table border=\"1\" class=\"dataframe\">\n  <thead>\n    <tr style=\"text-align: right;\">\n      <th></th>\n      <th>Unnamed: 0</th>\n      <th>trip_id</th>\n      <th>trip_duration_seconds</th>\n      <th>from_station_id</th>\n      <th>trip_start_time</th>\n      <th>from_station_name</th>\n      <th>trip_stop_time</th>\n      <th>to_station_id</th>\n      <th>to_station_name</th>\n      <th>user_type</th>\n    </tr>\n  </thead>\n  <tbody>\n    <tr>\n      <th>0</th>\n      <td>0</td>\n      <td>2383648</td>\n      <td>393</td>\n      <td>7018</td>\n      <td>1/1/2018 0:47</td>\n      <td>Bremner Blvd / Rees St</td>\n      <td>1/1/2018 0:54</td>\n      <td>7176</td>\n      <td>Bathurst St / Fort York Blvd</td>\n      <td>Annual Member</td>\n    </tr>\n    <tr>\n      <th>1</th>\n      <td>1</td>\n      <td>2383649</td>\n      <td>625</td>\n      <td>7184</td>\n      <td>1/1/2018 0:52</td>\n      <td>Ossington Ave / College St</td>\n      <td>1/1/2018 1:03</td>\n      <td>7191</td>\n      <td>Central Tech  (Harbord St)</td>\n      <td>Annual Member</td>\n    </tr>\n    <tr>\n      <th>2</th>\n      <td>2</td>\n      <td>2383650</td>\n      <td>233</td>\n      <td>7235</td>\n      <td>1/1/2018 0:55</td>\n      <td>Bay St / College St (West Side) - SMART</td>\n      <td>1/1/2018 0:59</td>\n      <td>7021</td>\n      <td>Bay St / Albert St</td>\n      <td>Annual Member</td>\n    </tr>\n    <tr>\n      <th>3</th>\n      <td>3</td>\n      <td>2383651</td>\n      <td>1138</td>\n      <td>7202</td>\n      <td>1/1/2018 0:57</td>\n      <td>Queen St W / York St (City Hall)</td>\n      <td>1/1/2018 1:16</td>\n      <td>7020</td>\n      <td>Phoebe St / Spadina Ave</td>\n      <td>Annual Member</td>\n    </tr>\n    <tr>\n      <th>4</th>\n      <td>4</td>\n      <td>2383652</td>\n      <td>703</td>\n      <td>7004</td>\n      <td>1/1/2018 1:00</td>\n      <td>University Ave / Elm St</td>\n      <td>1/1/2018 1:12</td>\n      <td>7060</td>\n      <td>Princess St / Adelaide St E</td>\n      <td>Annual Member</td>\n    </tr>\n  </tbody>\n</table>\n</div>"
     },
     "execution_count": 56,
     "metadata": {},
     "output_type": "execute_result"
    }
   ],
   "source": [
    "bikeshare_2018.head()"
   ],
   "metadata": {
    "collapsed": false,
    "ExecuteTime": {
     "end_time": "2023-11-20T00:37:10.042490Z",
     "start_time": "2023-11-20T00:37:09.999411Z"
    }
   },
   "id": "4c3100971397a9fd"
  },
  {
   "cell_type": "code",
   "execution_count": 57,
   "outputs": [
    {
     "data": {
      "text/plain": "    month      user_type  trip_id\n0       1  Annual Member    42469\n1       1  Casual Member     1390\n2       2  Annual Member    47276\n3       2  Casual Member     2455\n4       3  Annual Member    78564\n5       3  Casual Member     6405\n6       4  Annual Member    82194\n7       4  Casual Member    12589\n8       5  Annual Member   160989\n9       5  Casual Member    51761\n10      6  Annual Member   186463\n11      6  Casual Member    64374\n12      7  Annual Member   215835\n13      7  Casual Member    70481\n14      8  Annual Member   209770\n15      8  Casual Member    71449\n16      9  Annual Member   207789\n17      9  Casual Member    47212\n18     10  Annual Member   160326\n19     10  Casual Member    15553\n20     11  Annual Member   100675\n21     11  Casual Member     3612\n22     12  Annual Member    80630\n23     12  Casual Member     2694",
      "text/html": "<div>\n<style scoped>\n    .dataframe tbody tr th:only-of-type {\n        vertical-align: middle;\n    }\n\n    .dataframe tbody tr th {\n        vertical-align: top;\n    }\n\n    .dataframe thead th {\n        text-align: right;\n    }\n</style>\n<table border=\"1\" class=\"dataframe\">\n  <thead>\n    <tr style=\"text-align: right;\">\n      <th></th>\n      <th>month</th>\n      <th>user_type</th>\n      <th>trip_id</th>\n    </tr>\n  </thead>\n  <tbody>\n    <tr>\n      <th>0</th>\n      <td>1</td>\n      <td>Annual Member</td>\n      <td>42469</td>\n    </tr>\n    <tr>\n      <th>1</th>\n      <td>1</td>\n      <td>Casual Member</td>\n      <td>1390</td>\n    </tr>\n    <tr>\n      <th>2</th>\n      <td>2</td>\n      <td>Annual Member</td>\n      <td>47276</td>\n    </tr>\n    <tr>\n      <th>3</th>\n      <td>2</td>\n      <td>Casual Member</td>\n      <td>2455</td>\n    </tr>\n    <tr>\n      <th>4</th>\n      <td>3</td>\n      <td>Annual Member</td>\n      <td>78564</td>\n    </tr>\n    <tr>\n      <th>5</th>\n      <td>3</td>\n      <td>Casual Member</td>\n      <td>6405</td>\n    </tr>\n    <tr>\n      <th>6</th>\n      <td>4</td>\n      <td>Annual Member</td>\n      <td>82194</td>\n    </tr>\n    <tr>\n      <th>7</th>\n      <td>4</td>\n      <td>Casual Member</td>\n      <td>12589</td>\n    </tr>\n    <tr>\n      <th>8</th>\n      <td>5</td>\n      <td>Annual Member</td>\n      <td>160989</td>\n    </tr>\n    <tr>\n      <th>9</th>\n      <td>5</td>\n      <td>Casual Member</td>\n      <td>51761</td>\n    </tr>\n    <tr>\n      <th>10</th>\n      <td>6</td>\n      <td>Annual Member</td>\n      <td>186463</td>\n    </tr>\n    <tr>\n      <th>11</th>\n      <td>6</td>\n      <td>Casual Member</td>\n      <td>64374</td>\n    </tr>\n    <tr>\n      <th>12</th>\n      <td>7</td>\n      <td>Annual Member</td>\n      <td>215835</td>\n    </tr>\n    <tr>\n      <th>13</th>\n      <td>7</td>\n      <td>Casual Member</td>\n      <td>70481</td>\n    </tr>\n    <tr>\n      <th>14</th>\n      <td>8</td>\n      <td>Annual Member</td>\n      <td>209770</td>\n    </tr>\n    <tr>\n      <th>15</th>\n      <td>8</td>\n      <td>Casual Member</td>\n      <td>71449</td>\n    </tr>\n    <tr>\n      <th>16</th>\n      <td>9</td>\n      <td>Annual Member</td>\n      <td>207789</td>\n    </tr>\n    <tr>\n      <th>17</th>\n      <td>9</td>\n      <td>Casual Member</td>\n      <td>47212</td>\n    </tr>\n    <tr>\n      <th>18</th>\n      <td>10</td>\n      <td>Annual Member</td>\n      <td>160326</td>\n    </tr>\n    <tr>\n      <th>19</th>\n      <td>10</td>\n      <td>Casual Member</td>\n      <td>15553</td>\n    </tr>\n    <tr>\n      <th>20</th>\n      <td>11</td>\n      <td>Annual Member</td>\n      <td>100675</td>\n    </tr>\n    <tr>\n      <th>21</th>\n      <td>11</td>\n      <td>Casual Member</td>\n      <td>3612</td>\n    </tr>\n    <tr>\n      <th>22</th>\n      <td>12</td>\n      <td>Annual Member</td>\n      <td>80630</td>\n    </tr>\n    <tr>\n      <th>23</th>\n      <td>12</td>\n      <td>Casual Member</td>\n      <td>2694</td>\n    </tr>\n  </tbody>\n</table>\n</div>"
     },
     "execution_count": 57,
     "metadata": {},
     "output_type": "execute_result"
    }
   ],
   "source": [
    "bikeshare_2018['month'] = pd.to_datetime(bikeshare_2018['trip_start_time']).dt.month\n",
    "\n",
    "member_trend_2018 = bikeshare_2018.groupby(['month','user_type']).agg({'trip_id':'count'}).reset_index()\n",
    "member_trend_2018"
   ],
   "metadata": {
    "collapsed": false,
    "ExecuteTime": {
     "end_time": "2023-11-20T00:38:07.845824Z",
     "start_time": "2023-11-20T00:37:58.585024Z"
    }
   },
   "id": "e194c4dcaa053689"
  },
  {
   "cell_type": "code",
   "execution_count": 59,
   "outputs": [
    {
     "data": {
      "text/plain": "<Axes: xlabel='month', ylabel='trip_id'>"
     },
     "execution_count": 59,
     "metadata": {},
     "output_type": "execute_result"
    },
    {
     "data": {
      "text/plain": "<Figure size 640x480 with 1 Axes>",
      "image/png": "[encoded data removed]"
     },
     "metadata": {},
     "output_type": "display_data"
    }
   ],
   "source": [
    "sns.lineplot(data = member_trend_2018,x = 'month',y = 'trip_id',hue = 'user_type')"
   ],
   "metadata": {
    "collapsed": false,
    "ExecuteTime": {
     "end_time": "2023-11-20T00:39:44.210226Z",
     "start_time": "2023-11-20T00:39:42.364505Z"
    }
   },
   "id": "48151e84cb36824a"
  },
  {
   "cell_type": "code",
   "execution_count": null,
   "outputs": [],
   "source": [],
   "metadata": {
    "collapsed": false
   },
   "id": "8a58f141b09d125e"
  }
 ],
 "metadata": {
  "kernelspec": {
   "display_name": "Python 3",
   "language": "python",
   "name": "python3"
  },
  "language_info": {
   "codemirror_mode": {
    "name": "ipython",
    "version": 2
   },
   "file_extension": ".py",
   "mimetype": "text/x-python",
   "name": "python",
   "nbconvert_exporter": "python",
   "pygments_lexer": "ipython2",
   "version": "2.7.6"
  }
 },
 "nbformat": 4,
 "nbformat_minor": 5
}
